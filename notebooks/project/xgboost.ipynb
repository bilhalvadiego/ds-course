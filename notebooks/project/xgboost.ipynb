{
 "cells": [
  {
   "cell_type": "markdown",
   "id": "c0eaf4d9",
   "metadata": {
    "id": "c0eaf4d9",
    "papermill": {
     "duration": 0.01183,
     "end_time": "2022-06-19T01:50:36.690866",
     "exception": false,
     "start_time": "2022-06-19T01:50:36.679036",
     "status": "completed"
    },
    "tags": []
   },
   "source": [
    "# Classificação Multivariada com XGBoost\n",
    "\n",
    "<a id='section-zero'></a>\n",
    "## Índice\n",
    "* [Sobro o autor](#about-me)\n",
    "* [Introdução](#section-one)\n",
    "* [Pesquisa Preliminar](#section-two)\n",
    "* [Sobre o Dataset](#section-twoandahalf)\n",
    "    - [Content](#section-twoandahalf-one)\n",
    "    - [Target Metadata](#section-twoandahalf-two)\n",
    "* [Pensamentos Iniciais](#subsection-two-one)\n",
    "* [Análise Exploratória](#section-three)\n",
    "    - [Investigando correlações de variáveis](#subsection-three-one)\n",
    "* [Tratando Inconsistências](#section-four)\n",
    "    - [Investigando Outliers](#subsection-four-one)\n",
    "        - [Plotando Boxplots](#subsection-four-one-one)\n",
    "    - [Investigando Missing Values](#subsection-four-two)\n",
    "        - [Sumário da tabela de dados faltantes](#subsection-four-two-one)\n",
    "* [XGBoost Classifier](#section-five)\n",
    "    - [Pré-processamento para XGBoost](#subsection-five-one)\n",
    "    - [XGBoost model v1](#subsection-five-two)\n",
    "    - [XGBoost model v2](#subsection-five-three)\n",
    "    - [XGBoost model v3](#subsection-five-four)\n",
    "* [Escolhendo variáveis: uma ótica estatística](#section-six)\n",
    "* [Conclusão](#section-seven)\n",
    "\n",
    "_Fonte_: https://archive.ics.uci.edu/ml/datasets/thyroid+disease"
   ]
  },
  {
   "cell_type": "code",
   "execution_count": null,
   "id": "c23f3a9f",
   "metadata": {
    "ExecuteTime": {
     "end_time": "2023-01-17T00:25:57.158941Z",
     "start_time": "2023-01-17T00:25:57.154804Z"
    }
   },
   "outputs": [],
   "source": [
    "# !pip install xgboost -qq"
   ]
  },
  {
   "cell_type": "code",
   "execution_count": null,
   "id": "c474e5e7",
   "metadata": {
    "ExecuteTime": {
     "end_time": "2023-01-17T00:25:57.813834Z",
     "start_time": "2023-01-17T00:25:57.162690Z"
    }
   },
   "outputs": [],
   "source": [
    "import xgboost\n",
    "\n",
    "xgboost.__version__"
   ]
  },
  {
   "cell_type": "markdown",
   "id": "e748d811",
   "metadata": {
    "id": "e748d811"
   },
   "source": [
    "<a id='about-me'></a><span style=\"float:right\">[Voltar](#section-zero)</span>\n",
    "## Sobre o autor\n",
    "\n",
    "Olá! Meu nome é `Diego Bilhalva`, sou um `Cientista de Dados` apaixonado por `Business Analytics`(talvez um `BA`apaixonado por `Ciência de Dados`).\n",
    "\n",
    "Trabalho no universo _data_ por mais de 20 anos e trabalhei nos mais diversos segmentos e projetos:\n",
    "* Instituições Financeiras - Sicredi\n",
    "    * IA\n",
    "    * Business Intelligence\n",
    "    * Compliance\n",
    "    * Ombudsman\n",
    "    * Backoffice\n",
    "* Foodtech - iFood\n",
    "    * Fraud Prevention\n",
    "    \n",
    "Sou graduado em `Estatística` pela UFRGS e `Administração com ênfase em Gestão de Cooperativas` pela SESCOOP e tenho pós graduado Lato Senso em `Ciência de Dados` pela PUC-RS.\n",
    "\n",
    "Sou `CBAP`_Certified Business Analysis Professional_ outorgado pelo [IIBA](https://iiba.org) ([Veja meu badge aqui](https://badges.iiba.org/703cd2a0-b291-446c-a3e3-3ec68a57b897#gs.4a12wz)), além de ser membro voluntário do `IIBA Brazil` e membro permanente do `IIBA International`([Veja meu badge aqui](https://badges.iiba.org/e4d57741-6233-4ff3-bbd5-8e445a903395))\n",
    "\n",
    "Você pode me encontrar no `LinkedIN` clicando [aqui](https://www.linkedin.com/in/diegobilhalva/)."
   ]
  },
  {
   "cell_type": "markdown",
   "id": "73847f1d",
   "metadata": {
    "id": "73847f1d",
    "papermill": {
     "duration": 0.01183,
     "end_time": "2022-06-19T01:50:36.690866",
     "exception": false,
     "start_time": "2022-06-19T01:50:36.679036",
     "status": "completed"
    },
    "tags": []
   },
   "source": [
    "<a id='section-one'></a><span style=\"float:right\">[Voltar](#section-zero)</span>\n",
    "## Introdução\n",
    "\n",
    "O objetivo deste caderno é usar XGBoost para classificar pacientes com diferentes tipos de doenças relacionadas à tireóide, dada sua idade, sexo e informações médicas - incluindo resultados de testes para os níveis de hormônio tireoidiano no sangue. Os dados foram obtidos deste [repositório de aprendizagem de máquina UCI] (https://archive.ics.uci.edu/ml/datasets/thyroid+disease). O repositório contém vários arquivos de texto com diferentes subconjuntos dos dados. Um deles contém informações para ~9000 pacientes únicos, juntamente com um diagnóstico médico de 20 variáveis possíveis. Essas variáveis compõem 7 tipos de diagnóstico distintos:\n",
    "- `diagnóstico negativo`\n",
    "- `Hipertireoidismo`\n",
    "- `Hipotireoidismo`\n",
    "- `Proteínas de Ligação`\n",
    "- `não-tiróide`\n",
    "- `Em terapia de reposição`\n",
    "- `Resultados não conclusivos`\n",
    "\n",
    "Os diferentes diagnósticos alvo foram mapeados para uma dessas classes no momento da importação para o notebook. Alguns diagnósticos inconclusivos foram descartados, já que representam menos de 3% de todos os casos presentes no conjunto de dados.\n",
    "\n",
    "Seguindo adiante com a análise, foi decidido manter apenas as observações para pacientes com diagnóstico \"negativo\", \"hipertiróide\", ou \"hipotiróide\". Isto porque elas são as observações mais prevalentes e o foco deste projeto. As outras classes foram retiradas do conjunto de dados quando da importação e assim ficamos com ~7500 entradas únicas no conjunto de dados.\n",
    "- A principal razão para abandonar as outras classes é que elas não são importantes para nosso foco porque ou não relacionam a doença da tireóide (por exemplo, \"não-tiróide\", \"resultados discordantes ou não\"), ou se referem a um tratamento (por exemplo, \"terapia de reposição em curso\").\n",
    "- Outra grande razão, provavelmente mais importante, é que eles criam ruído em nossos dados.\n",
    "    - Nossos atributos mais importantes são os resultados dos testes de sangue dos níveis hormonais. As outras classes-alvo se referem a tratamentos e outras condições que esbatem as barreiras entre as classes. Creio que elas pertencem a uma análise diferente com um foco ligeiramente diferente.\n",
    "    "
   ]
  },
  {
   "cell_type": "markdown",
   "id": "802f15e6",
   "metadata": {
    "id": "802f15e6",
    "papermill": {
     "duration": 0.010063,
     "end_time": "2022-06-19T01:50:36.755890",
     "exception": false,
     "start_time": "2022-06-19T01:50:36.745827",
     "status": "completed"
    },
    "tags": []
   },
   "source": [
    "<a id='section-two'></a><span style=\"float:right\">[Voltar](#section-zero)</span>\n",
    "## Pesquisa Preliminar\n",
    "\n",
    "Antes de iniciarmos nossa análise, é importante entender o assunto e a natureza de nossos dados.\n",
    "- O que é a Doença da Tireóide?\n",
    "- O que é a medida TSH? Quais são os valores normais cientificamente estabelecidos?\n",
    "    - Um alto nível de TSH indica que a glândula tireóide não está produzindo hormônio tiroidiano suficiente (hipotireoidismo primário). Por outro lado, um baixo nível de TSH geralmente indica que a tireóide está produzindo hormônio tiroidiano em excesso (hipertireoidismo). \n",
    "        - Os valores normais de TSH são de 0,5 a 5,0 mIU/L\n",
    "- O que é medição T3? Quais são os valores normais cientificamente estabelecidos?\n",
    "    - Um teste T3 Total mede as frações ligadas e livres de triiodotironina. Os pacientes hipertireóides normalmente têm um nível T3 Total elevado. Os testes T3 podem ser usados para apoiar um diagnóstico de hipertireoidismo e podem determinar a gravidade do hipertireoidismo.\n",
    "        - Um nível normal de T3 total em adultos varia de 80-220 ng/dL\n",
    "- O que é medição TT4? Quais são os valores normais cientificamente estabelecidos?\n",
    "    - Um teste T4 Total mede o hormônio ligado e livre da tiroxina (T4) no sangue. Os níveis totais de T4 são afetados por medicamentos e condições médicas que alteram as proteínas de ligação ao hormônio tiroidiano. Estrogênio, pílulas contraceptivas orais, gravidez, doença hepática e infecção pelo vírus da hepatite C são causas comuns de aumento das proteínas de ligação ao hormônio tiroidiano e resultarão em um T4 Total elevado. Ao contrário, Testosterona ou andrógenos e esteróides anabólicos são causas comuns de diminuição das proteínas de ligação ao hormônio tiroidiano e resultarão em um T4 Total baixo.\n",
    "        - Um nível normal de T4 total em adultos varia de 5,0 a 12,0μg/dL\n",
    "- O que é medição T4U? Quais são os valores normais cientificamente estabelecidos?\n",
    "    - Os testes T4U medem a taxa de utilização de tiroxina (T4) no corpo. Eles podem ajudar a medir quão bem o corpo está utilizando o hormônio T4.\n",
    "- O que é a medição do FTI? Quais são os valores normais cientificamente estabelecidos?\n",
    "    - Um Índice T4 Livre mede o que não é ligado e capaz de entrar livremente e afetar os tecidos do corpo. Os testes que medem o índice T4 livre (FTI) geralmente refletem mais precisamente como a glândula tireóide está funcionando.\n",
    "        - Os valores normais de FT4 são de 0,7 a 1,9ng/dL.\n",
    "\n",
    "Desconheço as unidades que as diferentes medidas de sangue hormonal em nosso conjunto de dados utilizam. Mas saber quais são geralmente esses níveis para os indivíduos pode nos ajudar tremendamente na compreensão de nosso conjunto de dados. Além de fazer hipóteses das unidades que são usadas no conjunto de dados e detectar Outliers/inconsistências."
   ]
  },
  {
   "cell_type": "markdown",
   "id": "ef508a13",
   "metadata": {
    "id": "ef508a13"
   },
   "source": [
    "<a id='section-twoandahalf'></a><span style=\"float:right\">[Voltar](#section-zero)</span>\n",
    "## Sobre o Dataset\n",
    "\n",
    "<a id='section-twoandahalf-one'></a><span style=\"float:right\">[Voltar](#section-zero)</span>\n",
    "### Content\n",
    "**Features**\n",
    "- `age` - age of the patient (int)\n",
    "- `sex` - sex patient identifies (str)\n",
    "- `on_thyroxine` - whether patient is on thyroxine (bool)\n",
    "- `query on thyroxine` - *whether patient is on thyroxine (bool)\n",
    "- `on antithyroid meds` - whether patient is on antithyroid meds (bool)\n",
    "- `sick` - whether patient is sick (bool)\n",
    "- `pregnant` - whether patient is pregnant (bool)\n",
    "- `thyroid_surgery` - whether patient has undergone thyroid surgery (bool)\n",
    "- `I131_treatment` - whether patient is undergoing I131 treatment (bool)\n",
    "- `query_hypothyroid` - whether patient believes they have hypothyroid (bool)\n",
    "- `query_hyperthyroid` - whether patient believes they have hyperthyroid (bool)\n",
    "- `lithium` - whether patient * lithium (bool)\n",
    "- `goitre` - whether patient has goitre (bool)\n",
    "- `tumor` - whether patient has tumor (bool)\n",
    "- `hypopituitary` - whether patient * hyperpituitary gland (float)\n",
    "- `psych` - whether patient * psych (bool)\n",
    "- `TSH_measured` - whether TSH was measured in the blood (bool)\n",
    "- `TSH` - TSH level in blood from lab work (float)\n",
    "- `T3_measured` - whether T3 was measured in the blood (bool)\n",
    "- `T3`- T3 level in blood from lab work (float)\n",
    "- `TT4_measured` - whether TT4 was measured in the blood (bool)\n",
    "- `TT4` - TT4 level in blood from lab work (float)\n",
    "- `T4U_measured` - whether T4U was measured in the blood (bool)\n",
    "- `T4U` - T4U level in blood from lab work (float)\n",
    "- `FTI_measured` - whether FTI was measured in the blood (bool)\n",
    "- `FTI` - FTI level in blood from lab work (float)\n",
    "- `TBG_measured` - whether TBG was measured in the blood (bool)\n",
    "- `TBG` - TBG level in blood from lab work (float)\n",
    "- `referral_source` - (str)\n",
    "- `target` - hyperthyroidism medical diagnosis (str)\n",
    "- `patient_id` - unique id of the patient (str)\n",
    "\n",
    "<a id='section-twoandahalf-two'></a><span style=\"float:right\">[Voltar](#section-zero)</span>\n",
    "### Target Metada\n",
    "\n",
    "The diagnosis consists of a string of letters indicating diagnosed conditions.\n",
    "A diagnosis \"-\" indicates no condition requiring comment.  A diagnosis of the\n",
    "form \"X|Y\" is interpreted as \"consistent with X, but more likely Y\".  The\n",
    "conditions are divided into groups where each group corresponds to a class of\n",
    "comments.\n",
    "\n",
    "    Letter  Diagnosis\n",
    "    ------  ---------\n",
    "\n",
    "    hyperthyroid conditions:\n",
    "\n",
    "    A   hyperthyroid\n",
    "    B   T3 toxic\n",
    "    C   toxic goitre\n",
    "    D   secondary toxic\n",
    "\n",
    "    hypothyroid conditions:\n",
    "\n",
    "    E   hypothyroid\n",
    "    F   primary hypothyroid\n",
    "    G   compensated hypothyroid\n",
    "    H   secondary hypothyroid\n",
    "\n",
    "    binding protein:\n",
    "\n",
    "    I   increased binding protein\n",
    "    J   decreased binding protein\n",
    "\n",
    "    general health:\n",
    "\n",
    "    K   concurrent non-thyroidal illness\n",
    "\n",
    "    replacement therapy:\n",
    "\n",
    "    L   consistent with replacement therapy\n",
    "    M   underreplaced\n",
    "    N   overreplaced\n",
    "\n",
    "    antithyroid treatment:\n",
    "\n",
    "    O   antithyroid drugs\n",
    "    P   I131 treatment\n",
    "    Q   surgery\n",
    "\n",
    "    miscellaneous:\n",
    "\n",
    "    R   discordant assay results\n",
    "    S   elevated TBG\n",
    "    T   elevated thyroid hormones\n",
    "    \n",
    "    \n",
    "\n",
    "Agora que temos estas informações, vamos começar com a análise."
   ]
  },
  {
   "cell_type": "code",
   "execution_count": null,
   "id": "1edbe348",
   "metadata": {
    "ExecuteTime": {
     "end_time": "2023-01-17T00:25:57.818363Z",
     "start_time": "2023-01-17T00:25:57.816223Z"
    },
    "id": "1edbe348"
   },
   "outputs": [],
   "source": [
    "# !pip3 install pytz dython xgboost graphviz"
   ]
  },
  {
   "cell_type": "code",
   "execution_count": null,
   "id": "d7a1830b",
   "metadata": {
    "ExecuteTime": {
     "end_time": "2023-01-17T00:25:58.202028Z",
     "start_time": "2023-01-17T00:25:57.819559Z"
    },
    "colab": {
     "base_uri": "https://localhost:8080/"
    },
    "execution": {
     "iopub.execute_input": "2022-06-19T01:50:36.779772Z",
     "iopub.status.busy": "2022-06-19T01:50:36.778802Z",
     "iopub.status.idle": "2022-06-19T01:50:38.062245Z",
     "shell.execute_reply": "2022-06-19T01:50:38.060682Z"
    },
    "id": "d7a1830b",
    "outputId": "829e50fd-72ef-4375-bb92-a4b61a8284e3",
    "papermill": {
     "duration": 1.298355,
     "end_time": "2022-06-19T01:50:38.065081",
     "exception": false,
     "start_time": "2022-06-19T01:50:36.766726",
     "status": "completed"
    },
    "tags": []
   },
   "outputs": [],
   "source": [
    "import numpy as np # álgebra linear\n",
    "import pandas as pd # data processing, CSV file I/O (e.g. pd.read_csv)\n",
    "import seaborn as sns # deluxe visualization library\n",
    "import matplotlib.pyplot as plt # visualization library to support seaborn\n",
    "%matplotlib inline\n",
    "\n",
    "# importando o dataset\n",
    "thyroidDF = pd.read_csv('data/thyroidDF.csv')\n",
    "# thyroidDF.csv\n",
    "\n",
    "# re-mapping dos valores alvo\n",
    "diagnoses = {'-': 'negativo',\n",
    "             'A': 'hiper', \n",
    "             'B': 'hiper', \n",
    "             'C': 'hiper', \n",
    "             'D': 'hiper',\n",
    "             'E': 'hipo', \n",
    "             'F': 'hipo', \n",
    "             'G': 'hipo', \n",
    "             'H': 'hipo'}\n",
    "\n",
    "thyroidDF['target'] = thyroidDF['target'].map(diagnoses) # re-mapping\n",
    "\n",
    "# informações iniciais do dataset\n",
    "thyroidDF.info()"
   ]
  },
  {
   "cell_type": "markdown",
   "id": "1f5a4bea",
   "metadata": {
    "id": "1f5a4bea",
    "papermill": {
     "duration": 0.010153,
     "end_time": "2022-06-19T01:50:38.158590",
     "exception": false,
     "start_time": "2022-06-19T01:50:38.148437",
     "status": "completed"
    },
    "tags": []
   },
   "source": [
    "<a id='subsection-two-one'></a><span style=\"float:right\">[Voltar](#section-zero)</span>\n",
    "## Pensamentos Iniciais\n",
    "\n",
    "As colunas listadas abaixo serão removidas por causa da redundância. Elas são booleanas e indicam se foi ou não registrado um valor para seus respectivos exames de sangue. Se um valor foi registrado para um exame de sangue, ele estará presente em sua coluna. Caso contrário, ele será nulo.\n",
    "- MedidaTSH\n",
    "- T3_medida\n",
    "- TTT4_medida\n",
    "- T4U_medida\n",
    "- Medido_FTI\n",
    "- TBG_medida\n",
    "\n",
    "O atributo \"paciente_id\" também será removido após a verificação de observações duplicadas, pois não nos permite avançar.\n",
    "\n",
    "**Observações:**\n",
    "- O valor máximo de \"idade\" é 65.526 anos de idade. Ou essa pessoa é realmente velha de verdade ou isto é um erro. É provável que haja mais inconsistências como esta em todos os dados.\n",
    "    - Pessoas com idade acima de 100 anos serão removidas, uma vez que têm 'alvo' negativo e não perderemos muita informação omitindo-as.\n",
    "- Alguns valores máximos para os testes de hormônios tireoidianos parecem suspeitos.\n",
    "    - Investigaremos com estes mais tarde enquanto detectamos e lidamos com os valores aberrantes."
   ]
  },
  {
   "cell_type": "code",
   "execution_count": null,
   "id": "7bec6a84",
   "metadata": {
    "ExecuteTime": {
     "end_time": "2023-01-17T00:25:58.213673Z",
     "start_time": "2023-01-17T00:25:58.203730Z"
    },
    "id": "7bec6a84"
   },
   "outputs": [],
   "source": [
    "# excluindo atributos redundantes do dataset\n",
    "thyroidDF.drop(['TSH_measured', 'T3_measured', 'TT4_measured', 'T4U_measured', 'FTI_measured', 'TBG_measured', 'patient_id', 'referral_source'], axis=1, inplace=True)\n",
    "\n",
    "# excluindo casos com valores nulo\n",
    "thyroidDF.dropna(subset=['target'], inplace=True) "
   ]
  },
  {
   "cell_type": "code",
   "execution_count": null,
   "id": "4b6862ab",
   "metadata": {
    "ExecuteTime": {
     "end_time": "2023-01-17T00:25:58.236581Z",
     "start_time": "2023-01-17T00:25:58.215100Z"
    },
    "colab": {
     "base_uri": "https://localhost:8080/",
     "height": 300
    },
    "execution": {
     "iopub.execute_input": "2022-06-19T01:50:38.088902Z",
     "iopub.status.busy": "2022-06-19T01:50:38.088475Z",
     "iopub.status.idle": "2022-06-19T01:50:38.134261Z",
     "shell.execute_reply": "2022-06-19T01:50:38.133047Z"
    },
    "id": "4b6862ab",
    "outputId": "5d538e85-bf25-46b8-fbc0-869622629c3b",
    "papermill": {
     "duration": 0.060592,
     "end_time": "2022-06-19T01:50:38.136638",
     "exception": false,
     "start_time": "2022-06-19T01:50:38.076046",
     "status": "completed"
    },
    "tags": []
   },
   "outputs": [],
   "source": [
    "# distribuição das variáveis numéricas\n",
    "thyroidDF.describe()"
   ]
  },
  {
   "cell_type": "code",
   "execution_count": null,
   "id": "67584481",
   "metadata": {
    "ExecuteTime": {
     "end_time": "2023-01-17T00:25:58.251834Z",
     "start_time": "2023-01-17T00:25:58.237871Z"
    },
    "colab": {
     "base_uri": "https://localhost:8080/",
     "height": 204
    },
    "execution": {
     "iopub.execute_input": "2022-06-19T01:50:38.180933Z",
     "iopub.status.busy": "2022-06-19T01:50:38.180574Z",
     "iopub.status.idle": "2022-06-19T01:50:38.207482Z",
     "shell.execute_reply": "2022-06-19T01:50:38.206235Z"
    },
    "id": "67584481",
    "outputId": "cc26ab93-e62e-4900-a319-eeca6fbb4db8",
    "papermill": {
     "duration": 0.040709,
     "end_time": "2022-06-19T01:50:38.209695",
     "exception": false,
     "start_time": "2022-06-19T01:50:38.168986",
     "status": "completed"
    },
    "tags": []
   },
   "outputs": [],
   "source": [
    "# Tomando conhecimento dos casos acima dos 100 anos de idade\n",
    "thyroidDF[thyroidDF.age > 100]"
   ]
  },
  {
   "cell_type": "code",
   "execution_count": null,
   "id": "d284c183",
   "metadata": {
    "ExecuteTime": {
     "end_time": "2023-01-17T00:25:58.255426Z",
     "start_time": "2023-01-17T00:25:58.253114Z"
    },
    "execution": {
     "iopub.execute_input": "2022-06-19T01:50:38.233709Z",
     "iopub.status.busy": "2022-06-19T01:50:38.233191Z",
     "iopub.status.idle": "2022-06-19T01:50:38.240017Z",
     "shell.execute_reply": "2022-06-19T01:50:38.238825Z"
    },
    "id": "d284c183",
    "papermill": {
     "duration": 0.02109,
     "end_time": "2022-06-19T01:50:38.242121",
     "exception": false,
     "start_time": "2022-06-19T01:50:38.221031",
     "status": "completed"
    },
    "tags": []
   },
   "outputs": [],
   "source": [
    "# mudando a idade das observações com ('age' > 100) para nulo\n",
    "thyroidDF['age'] = np.where((thyroidDF.age > 100), np.nan, thyroidDF.age)"
   ]
  },
  {
   "cell_type": "markdown",
   "id": "ab875d1e",
   "metadata": {
    "id": "ab875d1e",
    "papermill": {
     "duration": 0.011057,
     "end_time": "2022-06-19T01:50:38.264408",
     "exception": false,
     "start_time": "2022-06-19T01:50:38.253351",
     "status": "completed"
    },
    "tags": []
   },
   "source": [
    "<a id='section-three'></a><span style=\"float:right\">[Voltar](#section-zero)</span>\n",
    "## Análise exploratória dos dados / Exploratory Data Analysis - EDA\n",
    "\n",
    "Iniciamos nosso EDA analisando a distribuição dos níveis de Hormônio no sangue para cada uma de nossas classes-alvo. Isto nos ajuda a ter uma idéia de quão bom de um preditor cada um desses atributos pode ser"
   ]
  },
  {
   "cell_type": "code",
   "execution_count": null,
   "id": "d14bf1e8",
   "metadata": {
    "ExecuteTime": {
     "end_time": "2023-01-17T00:25:59.215355Z",
     "start_time": "2023-01-17T00:25:58.257239Z"
    },
    "colab": {
     "base_uri": "https://localhost:8080/",
     "height": 1000
    },
    "execution": {
     "iopub.execute_input": "2022-06-19T01:50:38.288687Z",
     "iopub.status.busy": "2022-06-19T01:50:38.287434Z",
     "iopub.status.idle": "2022-06-19T01:50:39.797733Z",
     "shell.execute_reply": "2022-06-19T01:50:39.796724Z"
    },
    "id": "d14bf1e8",
    "outputId": "92436fa1-c117-4d13-a0db-0248dd106e2c",
    "papermill": {
     "duration": 1.529785,
     "end_time": "2022-06-19T01:50:39.805247",
     "exception": false,
     "start_time": "2022-06-19T01:50:38.275462",
     "status": "completed"
    },
    "tags": []
   },
   "outputs": [],
   "source": [
    "# Definindo um grid para multiplos gráficos seaborn\n",
    "fig, axes = plt.subplots(3,2,figsize=(20,16))\n",
    "fig.suptitle('Atributos numéricos vs. Target')\n",
    "sns.set_style('whitegrid');\n",
    "\n",
    "# TSH vs. 'target'\n",
    "sns.stripplot(x=thyroidDF.target, y=thyroidDF.TSH, linewidth=0.6, jitter= 0.3, ax=axes[0, 0])\n",
    "# T3 vs. 'target'\n",
    "sns.stripplot(x=thyroidDF.target, y=thyroidDF.T3, linewidth=0.6, jitter= 0.3, ax=axes[0, 1])\n",
    "# TT4 vs. 'target'\n",
    "sns.stripplot(x=thyroidDF.target, y=thyroidDF.TT4, linewidth=0.6, jitter= 0.3, ax=axes[1, 0])\n",
    "# T4U vs. 'target'\n",
    "sns.stripplot(x=thyroidDF.target, y=thyroidDF.T4U, linewidth=0.6, jitter= 0.3, ax=axes[1, 1])\n",
    "# FTI vs. 'target'\n",
    "sns.stripplot(x=thyroidDF.target, y=thyroidDF.FTI, linewidth=0.6, jitter= 0.3, ax=axes[2, 0])\n",
    "# TBG vs. 'target'\n",
    "sns.stripplot(x=thyroidDF.target, y=thyroidDF.TBG, linewidth=0.6, jitter= 0.3, ax=axes[2, 1])"
   ]
  },
  {
   "cell_type": "markdown",
   "id": "39005213",
   "metadata": {
    "id": "39005213",
    "papermill": {
     "duration": 0.018939,
     "end_time": "2022-06-19T01:50:39.842926",
     "exception": false,
     "start_time": "2022-06-19T01:50:39.823987",
     "status": "completed"
    },
    "tags": []
   },
   "source": [
    "**Observações:**\n",
    "- Imediatamente, podemos colocar a hipótese de que `FTI`, `T3`, e `TT4` serão bons preditores nos nossos modelos. O `TSH` parece que também pode ser bom, mas precisamos lidar com os outliers para o `'alvo'' hipo e analisar mais a distribuição de atributos antes de tomar qualquer decisão.\n",
    "    - Tudo isso está em linha com o conhecimento descoberto sobre testes de nível hormonal durante nossa pesquisa inicial.\n",
    "\n",
    "- Outro ponto que chamo a atenção é que num caso dicotômico a negação de uma variável dá lugar à verdade de outra variável. Veja o caso de `FTI`, por exemplo.\n",
    "\n",
    "Vamos continuar, criando um diagrama em pares de nossas variáveis numéricas e ver se conseguimos detectar quaisquer agrupamentos que se formem entre as variáveis."
   ]
  },
  {
   "cell_type": "code",
   "execution_count": null,
   "id": "767ab0c5",
   "metadata": {
    "ExecuteTime": {
     "end_time": "2023-01-17T00:26:15.296540Z",
     "start_time": "2023-01-17T00:25:59.216595Z"
    },
    "colab": {
     "base_uri": "https://localhost:8080/",
     "height": 1000
    },
    "execution": {
     "iopub.execute_input": "2022-06-19T01:50:39.882287Z",
     "iopub.status.busy": "2022-06-19T01:50:39.881799Z",
     "iopub.status.idle": "2022-06-19T01:51:00.575009Z",
     "shell.execute_reply": "2022-06-19T01:51:00.573942Z"
    },
    "id": "767ab0c5",
    "outputId": "ab96c2f9-6001-4c38-924e-569164f879d2",
    "papermill": {
     "duration": 20.722556,
     "end_time": "2022-06-19T01:51:00.584537",
     "exception": false,
     "start_time": "2022-06-19T01:50:39.861981",
     "status": "completed"
    },
    "tags": []
   },
   "outputs": [],
   "source": [
    "numericalDF = thyroidDF[['age', 'TSH', 'T3', 'TT4', 'T4U', 'FTI', 'target']].copy()\n",
    "sns.set_style('whitegrid');\n",
    "sns.pairplot(numericalDF, hue='target', height=3);\n",
    "plt.show()"
   ]
  },
  {
   "cell_type": "markdown",
   "id": "4c84d8d1",
   "metadata": {
    "id": "4c84d8d1",
    "papermill": {
     "duration": 0.031898,
     "end_time": "2022-06-19T01:51:00.648573",
     "exception": false,
     "start_time": "2022-06-19T01:51:00.616675",
     "status": "completed"
    },
    "tags": []
   },
   "source": [
    "Nas diagonais do diagrama de pares, podemos ver as distribuições de cada variável numérica em relação umas às outras. É evidente como o conjunto de dados é desequilibrado, com tantos \"alvos\" negativos em comparação com o hipotiróide ou hipertiróide.<br>\n",
    "_PS: para saber mais sobre dados desequilibrados, clica [aqui](https://machinelearningmastery.com/what-is-imbalanced-classification/#:~:text=Severe%20Imbalance.,1%3A100%20or%20more)._"
   ]
  },
  {
   "cell_type": "code",
   "execution_count": null,
   "id": "a07345e1",
   "metadata": {
    "ExecuteTime": {
     "end_time": "2023-01-17T00:26:15.304064Z",
     "start_time": "2023-01-17T00:26:15.299194Z"
    },
    "colab": {
     "base_uri": "https://localhost:8080/"
    },
    "id": "a07345e1",
    "outputId": "20011490-e10f-400a-f5a7-d49518cf27c9"
   },
   "outputs": [],
   "source": [
    "df_proportion = pd.DataFrame(thyroidDF.groupby('target')['target'].count())\n",
    "df_proportion['proportion'] = (\n",
    "    df_proportion['target'] / df_proportion['target'].min()\n",
    ").round(0).astype(int)\n",
    "print('A proporção entre as classes é de {:.0f}:{:.0f}:{:.0f}'.format(df_proportion['proportion'].tolist()[0]\n",
    "                                                         , df_proportion['proportion'].tolist()[1]\n",
    "                                                         , df_proportion['proportion'].tolist()[2]))"
   ]
  },
  {
   "cell_type": "markdown",
   "id": "154a9917",
   "metadata": {
    "id": "154a9917",
    "papermill": {
     "duration": 0.031898,
     "end_time": "2022-06-19T01:51:00.648573",
     "exception": false,
     "start_time": "2022-06-19T01:51:00.616675",
     "status": "completed"
    },
    "tags": []
   },
   "source": [
    "**Observações:**\n",
    "- Podemos ver que para alguns testes hormonais vs. outros, existem bons grupos que se formam. Isto é encorajador porque significa que eles fazem um bom trabalho na separação de cada uma de nossas classes-alvo.\n",
    "    - `FTI` vs `T3`\n",
    "    - `FTI` vs `T4U`\n",
    "    - `FTI` vs `idade`\n",
    "    - `T4U` vs `TT4`\n",
    "    - `TTT4` vs `idade`\n",
    "    - `TT4` vs `T3`\n",
    "- Há um grave desequilíbrio da classe alvo... mas nós sabíamos disso desde o início. É normal para este tipo de dado. Teremos que lidar com protocolo de reamostragem, assim como usar modelos que lidem bem com isto.\n",
    "\n",
    "    - **XGBoost** seria uma boa opção\n",
    "\n",
    "<a id='subsection-three-one'></a><span style=\"float:right\">[Voltar](#section-zero)</span>\n",
    "### Investigando correlações de variáveis\n",
    "\n",
    "Agora vamos dar alguma atenção aos nossos outros atributos boleanos e dar uma olhada na correlação entre eles.\n",
    "\n",
    "- Estamos utilizando o pacote 'dinton' como uma ferramenta de exploração de correlação multi-variada. Esta não é necessariamente a forma mais completa de explorar relações entre variáveis de diferentes tipos dentro de seu conjunto de dados, mas é direta e fácil de usar. Ela nos ajudará a ter uma idéia das correlações de variáveis mais tarde, enquanto realizamos a Análise Exploratória de Dados."
   ]
  },
  {
   "cell_type": "code",
   "execution_count": null,
   "id": "eUxYbhMN_f8F",
   "metadata": {
    "ExecuteTime": {
     "end_time": "2023-01-17T00:26:15.311819Z",
     "start_time": "2023-01-17T00:26:15.305275Z"
    },
    "colab": {
     "base_uri": "https://localhost:8080/"
    },
    "id": "eUxYbhMN_f8F",
    "outputId": "89f6bed1-7efb-4f8a-a514-760f8e41adec"
   },
   "outputs": [],
   "source": [
    "# !pip install matplotlib --upgrade\n",
    "# import matplotlib"
   ]
  },
  {
   "cell_type": "code",
   "execution_count": null,
   "id": "4f145d39",
   "metadata": {
    "ExecuteTime": {
     "end_time": "2023-01-17T00:26:15.314982Z",
     "start_time": "2023-01-17T00:26:15.313197Z"
    }
   },
   "outputs": [],
   "source": [
    "# !pip install dython -qq"
   ]
  },
  {
   "cell_type": "code",
   "execution_count": null,
   "id": "449ecdcd",
   "metadata": {
    "ExecuteTime": {
     "end_time": "2023-01-17T00:26:17.514192Z",
     "start_time": "2023-01-17T00:26:15.316387Z"
    },
    "colab": {
     "base_uri": "https://localhost:8080/",
     "height": 1000
    },
    "execution": {
     "iopub.execute_input": "2022-06-19T01:51:00.711891Z",
     "iopub.status.busy": "2022-06-19T01:51:00.711525Z",
     "iopub.status.idle": "2022-06-19T01:51:18.692352Z",
     "shell.execute_reply": "2022-06-19T01:51:18.691185Z"
    },
    "id": "449ecdcd",
    "outputId": "4983ae13-3ff7-4550-bd21-da5aa041bfe3",
    "papermill": {
     "duration": 18.017283,
     "end_time": "2022-06-19T01:51:18.696503",
     "exception": false,
     "start_time": "2022-06-19T01:51:00.679220",
     "status": "completed"
    },
    "tags": []
   },
   "outputs": [],
   "source": [
    "import dython\n",
    "from dython.nominal import associations\n",
    "from dython.nominal import identify_nominal_columns\n",
    "\n",
    "categorical_features = identify_nominal_columns(thyroidDF)\n",
    "\n",
    "associations(thyroidDF, \n",
    "            nominal_columns='auto', numerical_columns=None, mark_columns=False, nom_nom_assoc='cramer', num_num_assoc='pearson',  \n",
    "            ax=None, annot=True, fmt='.2f',cmap=None, sv_color='silver', cbar=True, vmax=1.0, vmin=None, plot=True, \n",
    "            compute_only=False, clustering=False, title=None, filename=None, \n",
    "            figsize=(18,18));"
   ]
  },
  {
   "cell_type": "markdown",
   "id": "ce04e52d",
   "metadata": {
    "id": "ce04e52d",
    "papermill": {
     "duration": 0.033244,
     "end_time": "2022-06-19T01:51:18.765882",
     "exception": false,
     "start_time": "2022-06-19T01:51:18.732638",
     "status": "completed"
    },
    "tags": []
   },
   "source": [
    "Muito bom ter todas estas informações sobre a correlação de todos os nossos atributos no mesmo lugar. Confirmamos imediatamente nossa hipótese de que os testes Hormonais são os mais úteis em nosso objetivo de prever o diagnóstico alvo. É surpreendente que quase nenhum outro de nossos atributos faça um bom trabalho na predição de nosso alvo. Decidiremos como seguir em frente com isto quando analisarmos um pouco mais.\n",
    "\n",
    "**Observações:**\n",
    "- Quando analisamos correlações devemos estar atentos à força desta correlação (quanto mais próximo do módulo de |1|, mais forte será esta correlação, bem como analisar o sentido desta correlação, que se positivo é diretamente proporcional e se negativo, inversamente proporcional. Por exemplo: esperamos que a \"venda de guarda chuvas aumento em dias chuvosos\", logo podemos dizer que esperamos que a correlação entre a venda de guarda chuvas em dias chuvosos tem seu valor próximo a +1. De maneira análoga, esperamos que aumento de combustíveis diminua o seu consumo, logo esta correlação teria o valor próximo a -1.\n",
    "\n",
    "<a id='section-four'></a><span style=\"float:right\">[Voltar](#section-zero)</span>\n",
    "## Tratando Inconsistências\n",
    "<a id='subsection-four-one'></a><span style=\"float:right\">[Voltar](#section-zero)</span>\n",
    "### Investigando Outliers\n",
    "\n",
    "O código abaixo calcula as faixas interquartílicas para nossos atributos numéricos de teste Hormonal, a fim de determinar os outliers suaves e severos. Dependendo da gravidade do problema, decidiremos como lidar com eles na próxima seção."
   ]
  },
  {
   "cell_type": "code",
   "execution_count": null,
   "id": "ea640d13",
   "metadata": {
    "ExecuteTime": {
     "end_time": "2023-01-17T00:26:17.536530Z",
     "start_time": "2023-01-17T00:26:17.515551Z"
    },
    "colab": {
     "base_uri": "https://localhost:8080/"
    },
    "execution": {
     "iopub.execute_input": "2022-06-19T01:51:18.834938Z",
     "iopub.status.busy": "2022-06-19T01:51:18.834285Z",
     "iopub.status.idle": "2022-06-19T01:51:18.872695Z",
     "shell.execute_reply": "2022-06-19T01:51:18.871720Z"
    },
    "id": "ea640d13",
    "outputId": "dc14b9bc-5892-4a0a-c68f-73908db49643",
    "papermill": {
     "duration": 0.075507,
     "end_time": "2022-06-19T01:51:18.875288",
     "exception": false,
     "start_time": "2022-06-19T01:51:18.799781",
     "status": "completed"
    },
    "tags": []
   },
   "outputs": [],
   "source": [
    "# TSH\n",
    "Q1_TSH = thyroidDF['TSH'].quantile(0.25)\n",
    "Q3_TSH = thyroidDF['TSH'].quantile(0.75)\n",
    "IQR_TSH = Q3_TSH - Q1_TSH\n",
    "under_TSH = thyroidDF['TSH'] < (Q1_TSH - 3 * IQR_TSH)\n",
    "upper_TSH = thyroidDF['TSH'] > (Q3_TSH + 3 * IQR_TSH)\n",
    "print('TSH:', 'outliers inferiores -', sum(under_TSH), ' | outliers superiores -', sum(upper_TSH))\n",
    "\n",
    "# T3\n",
    "Q1_T3 = thyroidDF['T3'].quantile(0.25)\n",
    "Q3_T3 = thyroidDF['T3'].quantile(0.75)\n",
    "IQR_T3 = Q3_T3 - Q1_T3\n",
    "under_T3 = thyroidDF['T3'] < (Q1_T3 - 3 * IQR_T3)\n",
    "upper_T3 = thyroidDF['T3'] > (Q3_T3 + 3 * IQR_T3)\n",
    "print('T3:', 'outliers inferiores -', sum(under_T3), ' | outliers superiores -', sum(upper_T3))\n",
    "\n",
    "# TT4\n",
    "Q1_TT4 = thyroidDF['TT4'].quantile(0.25)\n",
    "Q3_TT4 = thyroidDF['TT4'].quantile(0.75)\n",
    "IQR_TT4 = Q3_TT4 - Q1_TT4\n",
    "under_TT4 = thyroidDF['TT4'] < (Q1_TT4 - 3 * IQR_TT4)\n",
    "upper_TT4 = thyroidDF['TT4'] > (Q3_TT4 + 3 * IQR_TT4)\n",
    "print('TT4:', 'outliers inferiores -', sum(under_TT4), ' | outliers superiores -', sum(upper_TT4))\n",
    "\n",
    "# T4U\n",
    "Q1_T4U = thyroidDF['T4U'].quantile(0.25)\n",
    "Q3_T4U = thyroidDF['T4U'].quantile(0.75)\n",
    "IQR_T4U = Q3_T4U - Q1_T4U\n",
    "under_T4U = thyroidDF['T4U'] < (Q1_T4U - 3 * IQR_T4U)\n",
    "upper_T4U = thyroidDF['T4U'] > (Q3_T4U + 3 * IQR_T4U)\n",
    "print('T4U:', 'outliers inferiores -', sum(under_T4U), ' | outliers superiores -', sum(upper_T4U))\n",
    "\n",
    "# FTI\n",
    "Q1_FTI = thyroidDF['FTI'].quantile(0.25)\n",
    "Q3_FTI = thyroidDF['FTI'].quantile(0.75)\n",
    "IQR_FTI = Q3_FTI - Q1_FTI\n",
    "under_FTI = thyroidDF['FTI'] < (Q1_FTI - 3 * IQR_FTI)\n",
    "upper_FTI = thyroidDF['FTI'] > (Q3_FTI + 3 * IQR_FTI)\n",
    "print('FTI:', 'outliers inferiores -', sum(under_FTI), ' | outliers superiores -', sum(upper_FTI))"
   ]
  },
  {
   "cell_type": "markdown",
   "id": "40115d3e",
   "metadata": {
    "id": "40115d3e",
    "papermill": {
     "duration": 0.039547,
     "end_time": "2022-06-19T01:51:18.952827",
     "exception": false,
     "start_time": "2022-06-19T01:51:18.913280",
     "status": "completed"
    },
    "tags": []
   },
   "source": [
    "<a id='subsection-four-one-one'></a><span style=\"float:right\">[Voltar](#section-zero)</span>\n",
    "#### Plotando Boxplots"
   ]
  },
  {
   "cell_type": "code",
   "execution_count": null,
   "id": "eafe885d",
   "metadata": {
    "ExecuteTime": {
     "end_time": "2023-01-17T00:26:18.322957Z",
     "start_time": "2023-01-17T00:26:17.537870Z"
    },
    "colab": {
     "base_uri": "https://localhost:8080/",
     "height": 0
    },
    "execution": {
     "iopub.execute_input": "2022-06-19T01:51:19.037548Z",
     "iopub.status.busy": "2022-06-19T01:51:19.036817Z",
     "iopub.status.idle": "2022-06-19T01:51:20.185657Z",
     "shell.execute_reply": "2022-06-19T01:51:20.184117Z"
    },
    "id": "eafe885d",
    "outputId": "a0b35673-543f-4df2-f139-1510aa2b15a3",
    "papermill": {
     "duration": 1.19158,
     "end_time": "2022-06-19T01:51:20.188293",
     "exception": false,
     "start_time": "2022-06-19T01:51:18.996713",
     "status": "completed"
    },
    "tags": []
   },
   "outputs": [],
   "source": [
    "# boxplots\n",
    "fig, axs= plt.subplots(nrows = 5, figsize=(9,16))\n",
    "\n",
    "# TSH\n",
    "thyroidDF.boxplot(column='TSH', ax=axs[0], vert = False)\n",
    "axs[0].axvline(x=(Q1_TSH - 3*IQR_TSH), color='r', linestyle='--')\n",
    "axs[0].axvline(x=(Q3_TSH + 3*IQR_TSH), color='r', linestyle='--')\n",
    "# T3\n",
    "thyroidDF.boxplot(column='T3', ax=axs[1], vert = False)\n",
    "axs[1].axvline(x=(Q1_T3 - 3*IQR_T3), color='r', linestyle='--')\n",
    "axs[1].axvline(x=(Q3_T3 + 3*IQR_T3), color='r', linestyle='--')\n",
    "# TT4\n",
    "thyroidDF.boxplot(column='TT4', ax=axs[2], vert = False)\n",
    "axs[2].axvline(x=(Q1_TT4 - 3*IQR_TT4), color='r', linestyle='--')\n",
    "axs[2].axvline(x=(Q3_TT4 + 3*IQR_TT4), color='r', linestyle='--')\n",
    "# T4U\n",
    "thyroidDF.boxplot(column='T4U', ax=axs[3], vert = False)\n",
    "axs[3].axvline(x=(Q1_T4U - 3*IQR_T4U), color='r', linestyle='--')\n",
    "axs[3].axvline(x=(Q3_T4U + 3*IQR_T4U), color='r', linestyle='--')\n",
    "# FTI\n",
    "thyroidDF.boxplot(column='FTI', ax=axs[4], vert = False)\n",
    "axs[4].axvline(x=(Q1_FTI - 3*IQR_FTI), color='r', linestyle='--')\n",
    "axs[4].axvline(x=(Q3_FTI + 3*IQR_FTI), color='r', linestyle='--')"
   ]
  },
  {
   "cell_type": "markdown",
   "id": "6cb9177d",
   "metadata": {
    "id": "6cb9177d",
    "papermill": {
     "duration": 0.034633,
     "end_time": "2022-06-19T01:51:20.259952",
     "exception": false,
     "start_time": "2022-06-19T01:51:20.225319",
     "status": "completed"
    },
    "tags": []
   },
   "source": [
    "Parece que temos muitos outliers severos presentes. Entretanto, dadas nossas pesquisas sobre estes valores, este tipo de variação é normal dentro deste contexto e é de se esperar, especialmente quando lidamos com pessoas que terão alterações nestes valores dadas suas condições médicas."
   ]
  },
  {
   "cell_type": "markdown",
   "id": "93ead242",
   "metadata": {
    "id": "93ead242",
    "papermill": {
     "duration": 0.03617,
     "end_time": "2022-06-19T01:51:20.331420",
     "exception": false,
     "start_time": "2022-06-19T01:51:20.295250",
     "status": "completed"
    },
    "tags": []
   },
   "source": [
    "<a id='subsection-four-two'></a><span style=\"float:right\">[Voltar](#section-zero)</span>\n",
    "### Investigando valores ausentes (Missing)\n",
    "\n",
    "Primeiro faremos alguns cálculos para determinar a gravidade do nosso problema de valores ausentes. A função personalizada abaixo toma um _dataset_ como entrada e mantém uma contagem dos valores ausentes por coluna, depois calcula a porcentagem de valores ausentes naquela coluna e resume as informações em um _dataset_ de saída que é fácil para nós viabilizarmos.\n",
    "\n",
    "- A ausência geral do nosso conjunto de dados é **7,54%***.\n",
    "    - Isto parece preocupante no início, mas a maior parte desse volume é devido à coluna TBG que está quase totalmente vazia. Sabíamos que estávamos deixando isso de lado desde o início da análise, mas a mantivemos para fins de exploração. Agora é a hora de ir em frente e excluí-la do nosso _dataset_.\n",
    "- A coluna \"T3\" é a segunda coluna mais ausente com **29,3%***. \n",
    "    - Trata-se de muitos dados que faltam e pode ser aconselhável remover, mas a coluna é muito importante para nossa análise (também fizemos pesquisas separadas que reiteraram que o T3 é um preditor muito importante para a doença da tireóide). Tentaremos imputar estas informações para o futuro.\n",
    "- T3 é a terceira coluna mais ausente em **9,56%***.\n",
    "    - Este é um bom candidato para a imputação avançar\n",
    "- FTI\" é nossa quarta coluna mais ausente em **8,86%***.\n",
    "    - Este também é um bom candidato para imputação\n",
    "- TT4\" é nossa quinta coluna em **4,69%****.\n",
    "    - Mais uma vez um bom candidato à imputação\n",
    "- O \"sexta\" é nossa sexta coluna em **3,31%***.\n",
    "    - Determinaremos o que fazer com o sexo mais tarde\n",
    "        - dependendo de quão importante é manter em nosso conjunto de dados para fins de modelagem, tentaremos imputar\n",
    "- A \"idade\" tem 4 valores em falta\n",
    "    - criamos estes valores eliminando a idade inconsistente (muito grande) para estas observações\n",
    "        - determinamos que podemos ir em frente e abandonar estas observações sem impactar nossa análise\n",
    "\n",
    "**Observações:**\n",
    "- Não parece uma coincidência que a maioria dos valores em falta sejam provenientes de exames de sangue.\n",
    "    - Precisamos investigar isso mais a fundo para decidir a melhor abordagem para lidar com eles\n",
    "        - Eles não estão lá porque não foram devidamente registrados ou porque nunca foram ordenados a serem tomados (considerados desnecessários pelos médicos)?\n",
    "    - Determinaremos o que fazer com o sexo mais tarde\n",
    "        - dependendo de quão importante é manter em nosso conjunto de dados para fins de modelagem, tentaremos imputar\n",
    "- A \"idade\" tem 4 valores em falta\n",
    "    - criamos estes valores eliminando a idade inconsistente (muito grande) para estas observações\n",
    "        - determinamos que podemos ir em frente e abandonar estas observações sem impactar nossa análise"
   ]
  },
  {
   "cell_type": "code",
   "execution_count": null,
   "id": "62e25af2",
   "metadata": {
    "ExecuteTime": {
     "end_time": "2023-01-17T00:26:18.391126Z",
     "start_time": "2023-01-17T00:26:18.324358Z"
    },
    "colab": {
     "base_uri": "https://localhost:8080/",
     "height": 0
    },
    "execution": {
     "iopub.execute_input": "2022-06-19T01:51:20.404358Z",
     "iopub.status.busy": "2022-06-19T01:51:20.402912Z",
     "iopub.status.idle": "2022-06-19T01:51:20.502741Z",
     "shell.execute_reply": "2022-06-19T01:51:20.501413Z"
    },
    "id": "62e25af2",
    "outputId": "cf4fb761-94de-4ecd-b2ba-01a49ab2d98f",
    "papermill": {
     "duration": 0.13843,
     "end_time": "2022-06-19T01:51:20.505104",
     "exception": false,
     "start_time": "2022-06-19T01:51:20.366674",
     "status": "completed"
    },
    "tags": []
   },
   "outputs": [],
   "source": [
    "# calculando missings\n",
    "missingness = thyroidDF.isnull().sum().sum() / thyroidDF.count().sum()\n",
    "print('O percentual geral de missings é: {:.2f}%'.format(missingness * 100))\n",
    "\n",
    "# Criando uma tabela para análise de missings\n",
    "def missing_table(df):\n",
    "    total = df.isnull().sum().sort_values(ascending=False)\n",
    "    percent = (df.isnull().sum()/df.isnull().count()).sort_values(ascending=False)\n",
    "    missing_data = pd.concat([total, percent], axis=1, keys=['Total', 'Percent'])\n",
    "    return missing_data\n",
    "\n",
    "# Análise de missing data\n",
    "missing_table(thyroidDF).head(10)"
   ]
  },
  {
   "cell_type": "markdown",
   "id": "9b890d94",
   "metadata": {
    "id": "9b890d94",
    "papermill": {
     "duration": 0.036293,
     "end_time": "2022-06-19T01:51:20.576586",
     "exception": false,
     "start_time": "2022-06-19T01:51:20.540293",
     "status": "completed"
    },
    "tags": []
   },
   "source": [
    "<a id='subsection-four-two-one'></a><span style=\"float:right\">[Voltar](#section-zero)</span>\n",
    "#### Sumário da tabela de dados faltantes\n",
    "\n",
    "**thyroidDF[`TBG`]** - 96,56% em falta\n",
    "- O atributo `TBG` está quase totalmente ausente do conjunto de dados. Esta coluna será removida imediatamente!\n",
    "\n",
    "**thyroidDF[`age`]** - 0,045% em falta\n",
    "- Também vamos em frente e deixar cair estas 4 observações do conjunto de dados. Todas estas 4 observações pertencem a observações com `target` == `negative`.\n",
    "\n",
    "**thyroidDF[`Sex`]** - 3,37% em falta\n",
    "- Há um total de 300 observações onde o `sex` é nulo. Em uma tentativa de preservar alguns desses valores, verificamos quantas dessas observações também têm `pregnant` == `True`. Há 3 observações deste tipo. Supondo que o atributo `pregnant` esteja correto para essas observações, podemos dizer com confiança que essas 3 observações pertencem às mulheres e podem mudar seus respectivos valores."
   ]
  },
  {
   "cell_type": "code",
   "execution_count": null,
   "id": "be680fb6",
   "metadata": {
    "ExecuteTime": {
     "end_time": "2023-01-17T00:26:18.401759Z",
     "start_time": "2023-01-17T00:26:18.392368Z"
    },
    "execution": {
     "iopub.execute_input": "2022-06-19T01:51:20.653740Z",
     "iopub.status.busy": "2022-06-19T01:51:20.652952Z",
     "iopub.status.idle": "2022-06-19T01:51:20.671402Z",
     "shell.execute_reply": "2022-06-19T01:51:20.670003Z"
    },
    "id": "be680fb6",
    "papermill": {
     "duration": 0.060739,
     "end_time": "2022-06-19T01:51:20.674116",
     "exception": false,
     "start_time": "2022-06-19T01:51:20.613377",
     "status": "completed"
    },
    "tags": []
   },
   "outputs": [],
   "source": [
    "# dropping 'TBG'\n",
    "thyroidDF.drop(['TBG'], axis=1, inplace=True)\n",
    "\n",
    "# dropping 4 observações anormais para a variável 'age'\n",
    "thyroidDF.dropna(subset=['age'], inplace=True)\n",
    "\n",
    "# alterando os valores sex das observações com ('pregnant' == True) & ('sex' == null) para Female\n",
    "thyroidDF['sex'] = np.where((thyroidDF.sex.isnull()) & (thyroidDF.pregnant == 't'), 'F', thyroidDF.sex)"
   ]
  },
  {
   "cell_type": "markdown",
   "id": "d097f8f5",
   "metadata": {
    "id": "d097f8f5",
    "papermill": {
     "duration": 0.036568,
     "end_time": "2022-06-19T01:51:20.746923",
     "exception": false,
     "start_time": "2022-06-19T01:51:20.710355",
     "status": "completed"
    },
    "tags": []
   },
   "source": [
    "Agora vamos dar uma olhada nos valores em falta por linha. Se estamos avançando com a imputação, não queremos manter linhas que têm muitos valores faltantes (especialmente porque a maioria dos valores faltantes no conjunto de dados são dos atributos mais importantes)."
   ]
  },
  {
   "cell_type": "code",
   "execution_count": null,
   "id": "57638d28",
   "metadata": {
    "ExecuteTime": {
     "end_time": "2023-01-17T00:26:18.720979Z",
     "start_time": "2023-01-17T00:26:18.403131Z"
    },
    "colab": {
     "base_uri": "https://localhost:8080/",
     "height": 0
    },
    "execution": {
     "iopub.execute_input": "2022-06-19T01:51:20.823114Z",
     "iopub.status.busy": "2022-06-19T01:51:20.821918Z",
     "iopub.status.idle": "2022-06-19T01:51:21.259732Z",
     "shell.execute_reply": "2022-06-19T01:51:21.258623Z"
    },
    "id": "57638d28",
    "outputId": "c8754fbe-4a30-47af-f2e5-25bb570a29f8",
    "papermill": {
     "duration": 0.479573,
     "end_time": "2022-06-19T01:51:21.262368",
     "exception": false,
     "start_time": "2022-06-19T01:51:20.782795",
     "status": "completed"
    },
    "tags": []
   },
   "outputs": [],
   "source": [
    "# count missing values por linha\n",
    "thyroidDF['n_missing'] = thyroidDF.isnull().sum(axis=1)\n",
    "sns.histplot(thyroidDF, x='n_missing', binwidth=0.5, hue='target');"
   ]
  },
  {
   "cell_type": "markdown",
   "id": "7564f2fa",
   "metadata": {
    "id": "7564f2fa",
    "papermill": {
     "duration": 0.036565,
     "end_time": "2022-06-19T01:51:21.335060",
     "exception": false,
     "start_time": "2022-06-19T01:51:21.298495",
     "status": "completed"
    },
    "tags": []
   },
   "source": [
    "Parece que, depois de remover `TBG` do conjunto de dados, a maioria das observações em nosso conjunto de dados tem zero valores ausentes. Muitos têm um valor faltante e alguns têm dois. uma minoria tem 3 ou mais. Antes de fazermos qualquer imputação, removeremos as observações que estão faltando dados para mais de 2 colunas. Isto é porque não queremos fazer observações juntas. Fazemos esta remoção no código abaixo, bem como geramos uma tabela final para os valores faltantes depois de termos tratado a maioria deles.\n",
    "\n",
    "Estamos agora com apenas 2,89% de dados faltando em todo o conjunto de dados!"
   ]
  },
  {
   "cell_type": "code",
   "execution_count": null,
   "id": "acb6462c",
   "metadata": {
    "ExecuteTime": {
     "end_time": "2023-01-17T00:26:18.807889Z",
     "start_time": "2023-01-17T00:26:18.722315Z"
    },
    "colab": {
     "base_uri": "https://localhost:8080/",
     "height": 0
    },
    "execution": {
     "iopub.execute_input": "2022-06-19T01:51:21.409579Z",
     "iopub.status.busy": "2022-06-19T01:51:21.408933Z",
     "iopub.status.idle": "2022-06-19T01:51:21.497833Z",
     "shell.execute_reply": "2022-06-19T01:51:21.496509Z"
    },
    "id": "acb6462c",
    "outputId": "6bf53d00-2d42-4911-f6f9-13f2cb936be5",
    "papermill": {
     "duration": 0.129326,
     "end_time": "2022-06-19T01:51:21.500532",
     "exception": false,
     "start_time": "2022-06-19T01:51:21.371206",
     "status": "completed"
    },
    "tags": []
   },
   "outputs": [],
   "source": [
    "# calculando o total de missings\n",
    "missingness = thyroidDF.isnull().sum().sum() / thyroidDF.count().sum()\n",
    "print('O novo total geral de dados ausentes é: {:.2f}%'.format(missingness * 100))\n",
    "\n",
    "# remover linhas com 3 ou mais valores ausentes\n",
    "thyroidDF.drop(thyroidDF.index[thyroidDF['n_missing'] > 2], inplace=True)\n",
    "# print\n",
    "missing_table(thyroidDF).head(10)"
   ]
  },
  {
   "cell_type": "code",
   "execution_count": null,
   "id": "37135af8",
   "metadata": {
    "ExecuteTime": {
     "end_time": "2023-01-17T00:26:18.812367Z",
     "start_time": "2023-01-17T00:26:18.809696Z"
    }
   },
   "outputs": [],
   "source": [
    "del thyroidDF['n_missing']"
   ]
  },
  {
   "cell_type": "markdown",
   "id": "82970d88",
   "metadata": {
    "id": "82970d88"
   },
   "source": [
    "Pronto! Agora vamos modelar!"
   ]
  },
  {
   "cell_type": "markdown",
   "id": "17f2cf8e",
   "metadata": {
    "id": "17f2cf8e",
    "papermill": {
     "duration": 0.037112,
     "end_time": "2022-06-19T01:51:21.573672",
     "exception": false,
     "start_time": "2022-06-19T01:51:21.536560",
     "status": "completed"
    },
    "tags": []
   },
   "source": [
    "---\n",
    "<a id='section-five'></a><span style=\"float:right\">[Voltar](#section-zero)</span>\n",
    "## XGBoost Classifier\n",
    "\n",
    "A [XGBoost](https://xgboost.readthedocs.io/en/stable/) tem algumas propriedades surpreendentes que a tornam extremamente adequada para nossos dados: \n",
    "- Ele pode lidar nativamente com valores ausentes nos dados, desde que os codifiquemos com 0.\n",
    "- Ele faz um ótimo trabalho ao lidar com desequilíbrios severos de classes\n",
    "    - especialmente com seu parâmetro \"amostra_peso\" para ajudar a combater o desequilíbrio pesado da classe alvo\n",
    "- Ele pode selecionar as características mais importantes necessárias durante o treinamento e utiliza as de sua construção em árvore\n",
    "\n",
    "PS: Para saber mais sobre o pacote **Sci-kit Learn**, cliqui [aqui](https://scikit-learn.org/stable/).\n",
    "<a id='subsection-five-one'></a><span style=\"float:right\">[Voltar](#section-zero)</span>\n",
    "### Pré-processamento para XGBoost"
   ]
  },
  {
   "cell_type": "code",
   "execution_count": null,
   "id": "8ce1846f",
   "metadata": {
    "ExecuteTime": {
     "end_time": "2023-01-17T00:26:18.816879Z",
     "start_time": "2023-01-17T00:26:18.814300Z"
    },
    "id": "8ce1846f"
   },
   "outputs": [],
   "source": [
    "# !pip3 install xgboost"
   ]
  },
  {
   "cell_type": "code",
   "execution_count": 3,
   "id": "c8e5acd0",
   "metadata": {
    "ExecuteTime": {
     "end_time": "2023-01-17T00:59:04.460911Z",
     "start_time": "2023-01-17T00:59:00.924350Z"
    }
   },
   "outputs": [
    {
     "name": "stdout",
     "output_type": "stream",
     "text": [
      "Requirement already satisfied: scikit-learn in /home/diegobilhalva/Documents/virtual_envs/python3107/lib/python3.10/site-packages (1.0.2)\n",
      "Collecting scikit-learn\n",
      "  Using cached scikit_learn-1.2.0-cp310-cp310-manylinux_2_17_x86_64.manylinux2014_x86_64.whl (9.5 MB)\n",
      "Requirement already satisfied: scipy>=1.3.2 in /home/diegobilhalva/Documents/virtual_envs/python3107/lib/python3.10/site-packages (from scikit-learn) (1.9.3)\n",
      "Requirement already satisfied: threadpoolctl>=2.0.0 in /home/diegobilhalva/Documents/virtual_envs/python3107/lib/python3.10/site-packages (from scikit-learn) (3.1.0)\n",
      "Requirement already satisfied: joblib>=1.1.1 in /home/diegobilhalva/Documents/virtual_envs/python3107/lib/python3.10/site-packages (from scikit-learn) (1.2.0)\n",
      "Requirement already satisfied: numpy>=1.17.3 in /home/diegobilhalva/Documents/virtual_envs/python3107/lib/python3.10/site-packages (from scikit-learn) (1.24.1)\n",
      "Installing collected packages: scikit-learn\n",
      "  Attempting uninstall: scikit-learn\n",
      "    Found existing installation: scikit-learn 1.0.2\n",
      "    Uninstalling scikit-learn-1.0.2:\n",
      "      Successfully uninstalled scikit-learn-1.0.2\n",
      "Successfully installed scikit-learn-1.2.0\n"
     ]
    }
   ],
   "source": [
    "!pip install --upgrade scikit-learn"
   ]
  },
  {
   "cell_type": "code",
   "execution_count": null,
   "id": "20a4ef2f",
   "metadata": {
    "ExecuteTime": {
     "end_time": "2023-01-17T00:58:25.248112Z",
     "start_time": "2023-01-17T00:58:24.025235Z"
    }
   },
   "outputs": [],
   "source": [
    "!pip3 install scikit-learn=='1.0.2'"
   ]
  },
  {
   "cell_type": "code",
   "execution_count": null,
   "id": "cbd1be62",
   "metadata": {
    "ExecuteTime": {
     "end_time": "2023-01-17T00:52:40.330668Z",
     "start_time": "2023-01-17T00:52:39.871576Z"
    }
   },
   "outputs": [],
   "source": []
  },
  {
   "cell_type": "code",
   "execution_count": 1,
   "id": "c2b185d5",
   "metadata": {
    "ExecuteTime": {
     "end_time": "2023-01-17T00:58:47.511957Z",
     "start_time": "2023-01-17T00:58:47.046791Z"
    }
   },
   "outputs": [
    {
     "data": {
      "text/plain": [
       "'1.0.2'"
      ]
     },
     "execution_count": 1,
     "metadata": {},
     "output_type": "execute_result"
    }
   ],
   "source": [
    "import sklearn\n",
    "\n",
    "sklearn.__version__"
   ]
  },
  {
   "cell_type": "code",
   "execution_count": 2,
   "id": "97833cdd",
   "metadata": {
    "ExecuteTime": {
     "end_time": "2023-01-17T00:58:49.209123Z",
     "start_time": "2023-01-17T00:58:49.196155Z"
    }
   },
   "outputs": [],
   "source": [
    "from sklearn.metrics import plot_confusion_matrix, classification_report"
   ]
  },
  {
   "cell_type": "code",
   "execution_count": null,
   "id": "3f36c016",
   "metadata": {
    "ExecuteTime": {
     "end_time": "2023-01-17T00:26:18.937246Z",
     "start_time": "2023-01-17T00:26:18.818392Z"
    },
    "execution": {
     "iopub.execute_input": "2022-06-19T01:51:21.648192Z",
     "iopub.status.busy": "2022-06-19T01:51:21.646989Z",
     "iopub.status.idle": "2022-06-19T01:51:21.846984Z",
     "shell.execute_reply": "2022-06-19T01:51:21.845871Z"
    },
    "id": "3f36c016",
    "papermill": {
     "duration": 0.240116,
     "end_time": "2022-06-19T01:51:21.849597",
     "exception": false,
     "start_time": "2022-06-19T01:51:21.609481",
     "status": "completed"
    },
    "tags": []
   },
   "outputs": [],
   "source": [
    "import xgboost as xgb\n",
    "from sklearn.model_selection import train_test_split, GridSearchCV\n",
    "from sklearn.metrics import confusion_matrix, plot_confusion_matrix, classification_report\n",
    "from sklearn.metrics import balanced_accuracy_score, accuracy_score, precision_score, recall_score, f1_score\n",
    "from sklearn.utils.class_weight import compute_sample_weight\n",
    "\n",
    "SEED = 5252\n",
    "\n",
    "# substituição de strings booleanas por binários 0 e 1\n",
    "thyroidDF.replace('f', 0, inplace=True)\n",
    "thyroidDF.replace('t', 1, inplace=True)\n",
    "\n",
    "# substituição dos sexos por 0 e 1\n",
    "thyroidDF.replace('M', 0, inplace=True) # male mapped to 0\n",
    "thyroidDF.replace('F', 1, inplace=True) # female mapped to 1\n",
    "\n",
    "xgbDF = thyroidDF.replace(np.nan, 0)\n",
    "\n",
    "# re-mapping dos valores target groupos de diagnóstico\n",
    "diagnoses = {'negativo': 0,\n",
    "             'hipo': 1, \n",
    "             'hiper': 2}\n",
    "\n",
    "xgbDF['target'] = xgbDF['target'].map(diagnoses) # re-mapping\n",
    "\n",
    "# train and test split --> stratified\n",
    "X = xgbDF.drop('target', axis=1).copy()\n",
    "y = xgbDF['target'].copy()\n",
    "\n",
    "X_train, X_test, y_train, y_test = train_test_split(X, y, random_state=42, stratify=y)"
   ]
  },
  {
   "cell_type": "code",
   "execution_count": null,
   "id": "biRCRRXYFu-r",
   "metadata": {
    "ExecuteTime": {
     "end_time": "2023-01-17T00:26:18.938769Z",
     "start_time": "2023-01-17T00:26:18.938758Z"
    },
    "id": "biRCRRXYFu-r"
   },
   "outputs": [],
   "source": [
    "X.to_csv('x_thyroid.csv')\n",
    "y.to_csv('y_thyroid.csv')"
   ]
  },
  {
   "cell_type": "markdown",
   "id": "6ddc6d8d",
   "metadata": {
    "id": "6ddc6d8d",
    "papermill": {
     "duration": 0.034718,
     "end_time": "2022-06-19T01:51:21.921083",
     "exception": false,
     "start_time": "2022-06-19T01:51:21.886365",
     "status": "completed"
    },
    "tags": []
   },
   "source": [
    "<a id='subsection-five-two'></a><span style=\"float:right\">[Voltar](#section-zero)</span>\n",
    "### XGBoost model v1"
   ]
  },
  {
   "cell_type": "markdown",
   "id": "5fb78241",
   "metadata": {
    "id": "5fb78241"
   },
   "source": [
    "**Termos**:\n",
    "1. `mloglos`: conhecida como perda logística ou perda de centros de gravidade cruzados. Esta é a função de perda usada na regressão logística (multinomial) e extensões da mesma, tais como redes neurais, definidas como a probabilidade logística negativa de um modelo logístico que retorna as probabilidades y_pred para seus dados de treinamento y_true.\n",
    "\n",
    "1. `merror`: é a taxa de erro de classificação multiclasse."
   ]
  },
  {
   "cell_type": "code",
   "execution_count": null,
   "id": "d48e120a",
   "metadata": {
    "ExecuteTime": {
     "end_time": "2023-01-17T00:26:18.940049Z",
     "start_time": "2023-01-17T00:26:18.940037Z"
    },
    "colab": {
     "base_uri": "https://localhost:8080/",
     "height": 0
    },
    "execution": {
     "iopub.execute_input": "2022-06-19T01:51:21.994049Z",
     "iopub.status.busy": "2022-06-19T01:51:21.993635Z",
     "iopub.status.idle": "2022-06-19T01:51:23.176547Z",
     "shell.execute_reply": "2022-06-19T01:51:23.175516Z"
    },
    "id": "d48e120a",
    "outputId": "512b3989-f9de-4505-c222-40b5a78f98a7",
    "papermill": {
     "duration": 1.222084,
     "end_time": "2022-06-19T01:51:23.178692",
     "exception": false,
     "start_time": "2022-06-19T01:51:21.956608",
     "status": "completed"
    },
    "tags": []
   },
   "outputs": [],
   "source": [
    "## ---------- XGBoost model v1 ----------\n",
    "## base run of model with default hyperparameters\n",
    "\n",
    "xgb_clf = xgb.XGBClassifier(objective='multi:softmax', \n",
    "                            num_class=3, \n",
    "                            missing=1, \n",
    "                            early_stopping_rounds=10, \n",
    "                            eval_metric=['merror','mlogloss'], \n",
    "                            seed=SEED)\n",
    "xgb_clf.fit(X_train, \n",
    "            y_train,\n",
    "            verbose=0, # set to 1 to see xgb training round intermediate results\n",
    "            eval_set=[(X_train, y_train), (X_test, y_test)])\n",
    "\n",
    "# preparing evaluation metric plots\n",
    "results = xgb_clf.evals_result()\n",
    "epochs = len(results['validation_0']['mlogloss'])\n",
    "x_axis = range(0, epochs)\n",
    "\n",
    "# xgboost 'mlogloss' plot\n",
    "fig, ax = plt.subplots(figsize=(9,5))\n",
    "ax.plot(x_axis, results['validation_0']['mlogloss'], label='Train')\n",
    "ax.plot(x_axis, results['validation_1']['mlogloss'], label='Test')\n",
    "ax.legend()\n",
    "plt.ylabel('mlogloss')\n",
    "plt.title('GridSearchCV XGBoost mlogloss')\n",
    "plt.show()\n",
    "\n",
    "# xgboost 'merror' plot\n",
    "fig, ax = plt.subplots(figsize=(9,5))\n",
    "ax.plot(x_axis, results['validation_0']['merror'], label='Train')\n",
    "ax.plot(x_axis, results['validation_1']['merror'], label='Test')\n",
    "ax.legend()\n",
    "plt.ylabel('merror')\n",
    "plt.title('GridSearchCV XGBoost merror')\n",
    "plt.show()\n",
    "\n",
    "## ---------- Model Classification Report ----------\n",
    "## get predictions and create model quality report\n",
    "\n",
    "y_pred = xgb_clf.predict(X_test)\n",
    "\n",
    "print('\\n------------------ Confusion Matrix -----------------\\n')\n",
    "print(confusion_matrix(y_test, y_pred))\n",
    "\n",
    "print('\\n-------------------- Key Metrics --------------------')\n",
    "print('\\nAccuracy: {:.2f}'.format(accuracy_score(y_test, y_pred)))\n",
    "print('Balanced Accuracy: {:.2f}\\n'.format(balanced_accuracy_score(y_test, y_pred)))\n",
    "\n",
    "print('Micro Precision: {:.2f}'.format(precision_score(y_test, y_pred, average='micro')))\n",
    "print('Micro Recall: {:.2f}'.format(recall_score(y_test, y_pred, average='micro')))\n",
    "print('Micro F1-score: {:.2f}\\n'.format(f1_score(y_test, y_pred, average='micro')))\n",
    "\n",
    "print('Macro Precision: {:.2f}'.format(precision_score(y_test, y_pred, average='macro')))\n",
    "print('Macro Recall: {:.2f}'.format(recall_score(y_test, y_pred, average='macro')))\n",
    "print('Macro F1-score: {:.2f}\\n'.format(f1_score(y_test, y_pred, average='macro')))\n",
    "\n",
    "print('Weighted Precision: {:.2f}'.format(precision_score(y_test, y_pred, average='weighted')))\n",
    "print('Weighted Recall: {:.2f}'.format(recall_score(y_test, y_pred, average='weighted')))\n",
    "print('Weighted F1-score: {:.2f}'.format(f1_score(y_test, y_pred, average='weighted')))\n",
    "\n",
    "print('\\n--------------- Classification Report ---------------\\n')\n",
    "print(classification_report(y_test, y_pred))\n",
    "print('---------------------- XGBoost ----------------------') # unnecessary fancy styling"
   ]
  },
  {
   "cell_type": "markdown",
   "id": "088d9a9d",
   "metadata": {
    "id": "088d9a9d",
    "papermill": {
     "duration": 0.035893,
     "end_time": "2022-06-19T01:51:23.254471",
     "exception": false,
     "start_time": "2022-06-19T01:51:23.218578",
     "status": "completed"
    },
    "tags": []
   },
   "source": [
    "<a id='subsection-five-three'></a><span style=\"float:right\">[Voltar](#section-zero)</span>\n",
    "### XGBoost model v2\n",
    "\n",
    "- https://xgboost.readthedocs.io/en/stable/python/python_intro.html#setting-parameters\n",
    "- https://xgboost.readthedocs.io/en/stable/python/python_api.html?highlight=XGBClassifier#xgboost.XGBClassifier"
   ]
  },
  {
   "cell_type": "code",
   "execution_count": null,
   "id": "28aaf429",
   "metadata": {
    "ExecuteTime": {
     "end_time": "2023-01-17T00:26:18.941146Z",
     "start_time": "2023-01-17T00:26:18.941131Z"
    },
    "colab": {
     "base_uri": "https://localhost:8080/",
     "height": 0
    },
    "execution": {
     "iopub.execute_input": "2022-06-19T01:51:23.330167Z",
     "iopub.status.busy": "2022-06-19T01:51:23.329737Z",
     "iopub.status.idle": "2022-06-19T01:51:25.156240Z",
     "shell.execute_reply": "2022-06-19T01:51:25.154954Z"
    },
    "id": "28aaf429",
    "outputId": "8ebff2e0-061e-4ad8-f1cb-35c4cc319e7b",
    "papermill": {
     "duration": 1.867209,
     "end_time": "2022-06-19T01:51:25.158443",
     "exception": false,
     "start_time": "2022-06-19T01:51:23.291234",
     "status": "completed"
    },
    "tags": []
   },
   "outputs": [],
   "source": [
    "## ---------- XGBoost model v2 ----------\n",
    "## second run of model with \"optimized\" hyperparameters \n",
    "\n",
    "# declaring and fitting xgb classifier\n",
    "xgb_clf = xgb.XGBClassifier(objective='multi:softmax', \n",
    "                            num_class=3, \n",
    "                            missing=0,\n",
    "                            gamma=0, # default gamma value\n",
    "                            learning_rate=0.1,\n",
    "                            max_depth=3,\n",
    "                            reg_lambda=1, # default L2 value\n",
    "                            subsample=1, # default subsample value\n",
    "                            colsample_bytree=1, # default colsample_bytree value\n",
    "                            early_stopping_rounds=10,\n",
    "                            eval_metric=['merror','mlogloss'],\n",
    "                            seed=SEED)\n",
    "xgb_clf.fit(X_train, \n",
    "            y_train,\n",
    "            verbose=0, # set to 1 to see xgb training round intermediate results\n",
    "            #sample_weight=sample_weights, # class weights to combat unbalanced 'target'\n",
    "            eval_set=[(X_train, y_train), (X_test, y_test)])\n",
    "\n",
    "# preparing evaluation metric plots\n",
    "results = xgb_clf.evals_result()\n",
    "epochs = len(results['validation_0']['mlogloss'])\n",
    "x_axis = range(0, epochs)\n",
    "\n",
    "# xgboost 'mlogloss' plot\n",
    "fig, ax = plt.subplots(figsize=(9,5))\n",
    "ax.plot(x_axis, results['validation_0']['mlogloss'], label='Train')\n",
    "ax.plot(x_axis, results['validation_1']['mlogloss'], label='Test')\n",
    "ax.legend()\n",
    "plt.ylabel('mlogloss')\n",
    "plt.title('GridSearchCV XGBoost mlogloss')\n",
    "plt.show()\n",
    "\n",
    "# xgboost 'merror' plot\n",
    "fig, ax = plt.subplots(figsize=(9,5))\n",
    "ax.plot(x_axis, results['validation_0']['merror'], label='Train')\n",
    "ax.plot(x_axis, results['validation_1']['merror'], label='Test')\n",
    "ax.legend()\n",
    "plt.ylabel('merror')\n",
    "plt.title('GridSearchCV XGBoost merror')\n",
    "plt.show()\n",
    "\n",
    "## ---------- Model Classification Report ----------\n",
    "## get predictions and create model quality report\n",
    "\n",
    "y_pred = xgb_clf.predict(X_test)\n",
    "\n",
    "print('\\n------------------ Confusion Matrix -----------------\\n')\n",
    "print(confusion_matrix(y_test, y_pred))\n",
    "\n",
    "print('\\nAccuracy: {:.2f}'.format(accuracy_score(y_test, y_pred)))\n",
    "print('Balanced Accuracy: {:.2f}\\n'.format(balanced_accuracy_score(y_test, y_pred)))\n",
    "\n",
    "print('Micro Precision: {:.2f}'.format(precision_score(y_test, y_pred, average='micro')))\n",
    "print('Micro Recall: {:.2f}'.format(recall_score(y_test, y_pred, average='micro')))\n",
    "print('Micro F1-score: {:.2f}\\n'.format(f1_score(y_test, y_pred, average='micro')))\n",
    "\n",
    "print('Macro Precision: {:.2f}'.format(precision_score(y_test, y_pred, average='macro')))\n",
    "print('Macro Recall: {:.2f}'.format(recall_score(y_test, y_pred, average='macro')))\n",
    "print('Macro F1-score: {:.2f}\\n'.format(f1_score(y_test, y_pred, average='macro')))\n",
    "\n",
    "print('Weighted Precision: {:.2f}'.format(precision_score(y_test, y_pred, average='weighted')))\n",
    "print('Weighted Recall: {:.2f}'.format(recall_score(y_test, y_pred, average='weighted')))\n",
    "print('Weighted F1-score: {:.2f}'.format(f1_score(y_test, y_pred, average='weighted')))\n",
    "\n",
    "print('\\n--------------- Classification Report ---------------\\n')\n",
    "print(classification_report(y_test, y_pred))\n",
    "print('---------------------- XGBoost ----------------------') # unnecessary fancy styling"
   ]
  },
  {
   "cell_type": "markdown",
   "id": "59254e0b",
   "metadata": {
    "id": "59254e0b",
    "papermill": {
     "duration": 0.036983,
     "end_time": "2022-06-19T01:51:25.234026",
     "exception": false,
     "start_time": "2022-06-19T01:51:25.197043",
     "status": "completed"
    },
    "tags": []
   },
   "source": [
    "<a id='subsection-five-four'></a><span style=\"float:right\">[Voltar](#section-zero)</span>\n",
    "### XGBoost Model v3"
   ]
  },
  {
   "cell_type": "code",
   "execution_count": null,
   "id": "4bef1c75",
   "metadata": {
    "ExecuteTime": {
     "end_time": "2023-01-17T00:26:18.942664Z",
     "start_time": "2023-01-17T00:26:18.942637Z"
    },
    "colab": {
     "base_uri": "https://localhost:8080/",
     "height": 1000
    },
    "execution": {
     "iopub.execute_input": "2022-06-19T01:51:25.310724Z",
     "iopub.status.busy": "2022-06-19T01:51:25.309803Z",
     "iopub.status.idle": "2022-06-19T01:51:27.408473Z",
     "shell.execute_reply": "2022-06-19T01:51:27.406897Z"
    },
    "id": "4bef1c75",
    "outputId": "39198083-883c-48dc-f1b0-954836d03d51",
    "papermill": {
     "duration": 2.139239,
     "end_time": "2022-06-19T01:51:27.410653",
     "exception": false,
     "start_time": "2022-06-19T01:51:25.271414",
     "status": "completed"
    },
    "tags": []
   },
   "outputs": [],
   "source": [
    "## ---------- XGBoost model v3 ----------\n",
    "## third run of model with \"optimized\" hyperparameters and\n",
    "## attempting to treat unbalanced target classes\n",
    "\n",
    "# balancing 'target' class weights\n",
    "sample_weights = compute_sample_weight(\n",
    "    class_weight='balanced',\n",
    "    y=y_train)\n",
    "\n",
    "# declaring and fitting xgb classifier\n",
    "xgb_clf = xgb.XGBClassifier(objective='multi:softmax', \n",
    "                            num_class=3, \n",
    "                            missing=1,\n",
    "                            gamma=0, # default gamma value\n",
    "                            learning_rate=0.1,\n",
    "                            max_depth=5, # re-optimized from v2\n",
    "                            reg_lambda=1, # default L2 value\n",
    "                            #subsample=0.8, # tried but not ideal\n",
    "                            #colsample_bytree=0.3, # tried but not ideal\n",
    "                            early_stopping_rounds=10,\n",
    "                            eval_metric=['merror','mlogloss'],\n",
    "                            seed=SEED)\n",
    "xgb_clf.fit(X_train, \n",
    "            y_train,\n",
    "            verbose=0, # set to 1 to see xgb training round intermediate results\n",
    "            sample_weight=sample_weights, # class weights to combat unbalanced 'target'\n",
    "            eval_set=[(X_train, y_train), (X_test, y_test)])\n",
    "\n",
    "# preparing evaluation metric plots\n",
    "results = xgb_clf.evals_result()\n",
    "epochs = len(results['validation_0']['mlogloss'])\n",
    "x_axis = range(0, epochs)\n",
    "\n",
    "# xgboost 'mlogloss' plot\n",
    "fig, ax = plt.subplots(figsize=(9,5))\n",
    "ax.plot(x_axis, results['validation_0']['mlogloss'], label='Train')\n",
    "ax.plot(x_axis, results['validation_1']['mlogloss'], label='Test')\n",
    "ax.legend()\n",
    "plt.ylabel('mlogloss')\n",
    "plt.title('GridSearchCV XGBoost mlogloss')\n",
    "plt.show()\n",
    "\n",
    "# xgboost 'merror' plot\n",
    "fig, ax = plt.subplots(figsize=(9,5))\n",
    "ax.plot(x_axis, results['validation_0']['merror'], label='Train')\n",
    "ax.plot(x_axis, results['validation_1']['merror'], label='Test')\n",
    "ax.legend()\n",
    "plt.ylabel('merror')\n",
    "plt.title('GridSearchCV XGBoost merror')\n",
    "plt.show()\n",
    "\n",
    "## ---------- Model Classification Report ----------\n",
    "## get predictions and create model quality report\n",
    "\n",
    "y_pred = xgb_clf.predict(X_test)\n",
    "\n",
    "print('\\n------------------ Confusion Matrix -----------------\\n')\n",
    "print(confusion_matrix(y_test, y_pred))\n",
    "\n",
    "print('\\nAccuracy: {:.2f}'.format(accuracy_score(y_test, y_pred)))\n",
    "print('Balanced Accuracy: {:.2f}\\n'.format(balanced_accuracy_score(y_test, y_pred)))\n",
    "\n",
    "print('Micro Precision: {:.2f}'.format(precision_score(y_test, y_pred, average='micro')))\n",
    "print('Micro Recall: {:.2f}'.format(recall_score(y_test, y_pred, average='micro')))\n",
    "print('Micro F1-score: {:.2f}\\n'.format(f1_score(y_test, y_pred, average='micro')))\n",
    "\n",
    "print('Macro Precision: {:.2f}'.format(precision_score(y_test, y_pred, average='macro')))\n",
    "print('Macro Recall: {:.2f}'.format(recall_score(y_test, y_pred, average='macro')))\n",
    "print('Macro F1-score: {:.2f}\\n'.format(f1_score(y_test, y_pred, average='macro')))\n",
    "\n",
    "print('Weighted Precision: {:.2f}'.format(precision_score(y_test, y_pred, average='weighted')))\n",
    "print('Weighted Recall: {:.2f}'.format(recall_score(y_test, y_pred, average='weighted')))\n",
    "print('Weighted F1-score: {:.2f}'.format(f1_score(y_test, y_pred, average='weighted')))\n",
    "\n",
    "print('\\n--------------- Classification Report ---------------\\n')\n",
    "print(classification_report(y_test, y_pred))\n",
    "print('---------------------- XGBoost ----------------------') # unnecessary fancy styling"
   ]
  },
  {
   "cell_type": "code",
   "execution_count": null,
   "id": "6dd0a3dd",
   "metadata": {
    "ExecuteTime": {
     "end_time": "2023-01-17T00:26:18.944091Z",
     "start_time": "2023-01-17T00:26:18.944074Z"
    }
   },
   "outputs": [],
   "source": [
    "exemplo"
   ]
  },
  {
   "cell_type": "code",
   "execution_count": null,
   "id": "j4ydWr2iCVB4",
   "metadata": {
    "ExecuteTime": {
     "end_time": "2023-01-17T00:26:18.945529Z",
     "start_time": "2023-01-17T00:26:18.945515Z"
    },
    "colab": {
     "base_uri": "https://localhost:8080/",
     "height": 110
    },
    "id": "j4ydWr2iCVB4",
    "outputId": "a4a9a5bc-3bdb-459f-b7ec-0df1cc5825f8"
   },
   "outputs": [],
   "source": [
    "# print(X_train.columns)\n",
    "\n",
    "exemplo = X_train.loc[6005].to_dict()\n",
    "\n",
    "exemplo = {k:[v] for k,v in exemplo.items()}  # WORKAROUND\n",
    "df = pd.DataFrame(exemplo)\n",
    "df\n",
    "\n",
    "# y_train"
   ]
  },
  {
   "cell_type": "code",
   "execution_count": null,
   "id": "6822e6d4",
   "metadata": {
    "ExecuteTime": {
     "end_time": "2023-01-17T00:26:18.947120Z",
     "start_time": "2023-01-17T00:26:18.947104Z"
    }
   },
   "outputs": [],
   "source": [
    "X_train.columns"
   ]
  },
  {
   "cell_type": "code",
   "execution_count": null,
   "id": "3fc21e4c",
   "metadata": {
    "ExecuteTime": {
     "end_time": "2023-01-17T00:26:18.948200Z",
     "start_time": "2023-01-17T00:26:18.948185Z"
    }
   },
   "outputs": [],
   "source": [
    "y_train.shape"
   ]
  },
  {
   "cell_type": "code",
   "execution_count": null,
   "id": "6c0d1b31",
   "metadata": {
    "ExecuteTime": {
     "end_time": "2023-01-17T00:26:18.949689Z",
     "start_time": "2023-01-17T00:26:18.949670Z"
    }
   },
   "outputs": [],
   "source": [
    "df.to_numpy()"
   ]
  },
  {
   "cell_type": "code",
   "execution_count": null,
   "id": "Cqof2LiuDLC2",
   "metadata": {
    "ExecuteTime": {
     "end_time": "2023-01-17T00:26:18.951249Z",
     "start_time": "2023-01-17T00:26:18.951232Z"
    },
    "colab": {
     "base_uri": "https://localhost:8080/"
    },
    "id": "Cqof2LiuDLC2",
    "outputId": "6b62b602-17fb-4b39-da2f-37e850e6a991"
   },
   "outputs": [],
   "source": [
    "y_train[y_train == 1]"
   ]
  },
  {
   "cell_type": "code",
   "execution_count": null,
   "id": "NmVrGa8SBV4Q",
   "metadata": {
    "ExecuteTime": {
     "end_time": "2023-01-17T00:26:18.952682Z",
     "start_time": "2023-01-17T00:26:18.952666Z"
    },
    "colab": {
     "base_uri": "https://localhost:8080/"
    },
    "id": "NmVrGa8SBV4Q",
    "outputId": "0bad9d63-f5be-4723-bf25-ff6098519370"
   },
   "outputs": [],
   "source": [
    "xgb_clf.predict(df)"
   ]
  },
  {
   "cell_type": "code",
   "execution_count": null,
   "id": "saNa4-ApBKJq",
   "metadata": {
    "ExecuteTime": {
     "end_time": "2022-10-09T18:59:36.381586Z",
     "start_time": "2022-10-09T18:59:36.354991Z"
    },
    "id": "saNa4-ApBKJq"
   },
   "outputs": [],
   "source": [
    "import pickle\n",
    "\n",
    "# Saving model to disk\n",
    "pickle.dump(xgb_clf, open('xgb_clf.pkl','wb'))\n",
    "# Loading model to compare the results\n",
    "# modelo = pickle.load(open('xgb_clf.pkl','rb'))\n",
    "# print(modelo.predict(df))"
   ]
  },
  {
   "cell_type": "markdown",
   "id": "bb581f60",
   "metadata": {
    "id": "bb581f60"
   },
   "source": [
    "**Observação** <br>\n",
    "Micro e macro recall (para qualquer métrica) calcularão coisas ligeiramente diferentes e, portanto, sua interpretação difere. Uma macrométrica calculará a métrica independentemente para cada classe e então tomará a média (tratando assim todas as classes igualmente), enquanto uma micrométrica agregará as contribuições de todas as classes para calcular a métrica média. Em uma classificação multiclasse, a micro-medida é preferível se você suspeitar que pode haver um desequilíbrio de classe (ou seja, você pode ter muito mais exemplos de uma classe do que de outras classes)."
   ]
  },
  {
   "cell_type": "code",
   "execution_count": null,
   "id": "4253de65",
   "metadata": {
    "ExecuteTime": {
     "end_time": "2022-06-22T00:02:18.803709Z",
     "start_time": "2022-06-22T00:02:18.642753Z"
    },
    "colab": {
     "base_uri": "https://localhost:8080/",
     "height": 350
    },
    "execution": {
     "iopub.execute_input": "2022-06-19T01:51:27.492818Z",
     "iopub.status.busy": "2022-06-19T01:51:27.492210Z",
     "iopub.status.idle": "2022-06-19T01:51:27.820284Z",
     "shell.execute_reply": "2022-06-19T01:51:27.819526Z"
    },
    "id": "4253de65",
    "outputId": "9975e943-3120-4a34-e884-a64462eb6a87",
    "papermill": {
     "duration": 0.370586,
     "end_time": "2022-06-19T01:51:27.822274",
     "exception": false,
     "start_time": "2022-06-19T01:51:27.451688",
     "status": "completed"
    },
    "scrolled": true,
    "tags": []
   },
   "outputs": [],
   "source": [
    "## ---------- Plot Feature Importance ----------\n",
    "## plotting feature importance of best xgboost model (v3)\n",
    "\n",
    "from xgboost import plot_importance\n",
    "\n",
    "fig, ax = plt.subplots(figsize=(9,5))\n",
    "plot_importance(xgb_clf, ax=ax)\n",
    "plt.show()"
   ]
  },
  {
   "cell_type": "code",
   "execution_count": null,
   "id": "8514245a",
   "metadata": {
    "ExecuteTime": {
     "end_time": "2022-10-09T16:29:17.345159Z",
     "start_time": "2022-10-09T16:29:16.033107Z"
    },
    "colab": {
     "base_uri": "https://localhost:8080/"
    },
    "id": "8514245a",
    "outputId": "a274217a-0996-46e3-9da7-3d5b5b1868de"
   },
   "outputs": [],
   "source": [
    "!pip install Graphviz"
   ]
  },
  {
   "cell_type": "code",
   "execution_count": null,
   "id": "8ab543d9",
   "metadata": {
    "ExecuteTime": {
     "end_time": "2022-06-22T00:02:19.211370Z",
     "start_time": "2022-06-22T00:02:18.804845Z"
    },
    "colab": {
     "base_uri": "https://localhost:8080/",
     "height": 480
    },
    "execution": {
     "iopub.execute_input": "2022-06-19T01:51:27.904333Z",
     "iopub.status.busy": "2022-06-19T01:51:27.903225Z",
     "iopub.status.idle": "2022-06-19T01:51:29.843133Z",
     "shell.execute_reply": "2022-06-19T01:51:29.842192Z"
    },
    "id": "8ab543d9",
    "outputId": "a549d412-485e-409d-d085-627a59c90566",
    "papermill": {
     "duration": 1.985214,
     "end_time": "2022-06-19T01:51:29.846999",
     "exception": false,
     "start_time": "2022-06-19T01:51:27.861785",
     "status": "completed"
    },
    "tags": []
   },
   "outputs": [],
   "source": [
    "## ---------- Plot Model Tree ----------\n",
    "## plotting model tree of best xgboost model (v3)\n",
    "\n",
    "from matplotlib.pylab import rcParams\n",
    "\n",
    "rcParams['figure.figsize'] = 28,12\n",
    "xgb.plot_tree(xgb_clf)\n",
    "plt.show()"
   ]
  },
  {
   "cell_type": "markdown",
   "id": "85fb1c91",
   "metadata": {
    "id": "85fb1c91",
    "papermill": {
     "duration": 0.048363,
     "end_time": "2022-06-19T01:51:29.940720",
     "exception": false,
     "start_time": "2022-06-19T01:51:29.892357",
     "status": "completed"
    },
    "tags": []
   },
   "source": [
    "<a id='section-six'></a><span style=\"float:right\">[Voltar](#section-zero)</span>\n",
    "## Escolhendo variáveis: uma ótica estatística\n",
    "\n",
    "Aqui apresento uma construção iterativa passo a passo de um modelo de regressão que envolve a seleção de variáveis independentes para serem usadas em um modelo final. Envolve a adição ou remoção de potenciais variáveis explicativas em sucessão e testes de significância estatística após cada iteração."
   ]
  },
  {
   "cell_type": "code",
   "execution_count": null,
   "id": "425a8001",
   "metadata": {
    "id": "425a8001"
   },
   "outputs": [],
   "source": [
    "# !pip install lxml"
   ]
  },
  {
   "cell_type": "code",
   "execution_count": null,
   "id": "f208eaf2",
   "metadata": {
    "ExecuteTime": {
     "end_time": "2022-06-22T00:02:19.374150Z",
     "start_time": "2022-06-22T00:02:19.212349Z"
    },
    "colab": {
     "base_uri": "https://localhost:8080/",
     "height": 375
    },
    "id": "f208eaf2",
    "outputId": "004b5cff-e93e-4970-ff39-bcf0666238fa",
    "papermill": {
     "duration": 0.046915,
     "end_time": "2022-06-19T01:51:30.038720",
     "exception": false,
     "start_time": "2022-06-19T01:51:29.991805",
     "status": "completed"
    },
    "tags": []
   },
   "outputs": [],
   "source": [
    "import statsmodels.formula.api as smf\n",
    "import diegobilhalva_tools as dbtools\n",
    "\n",
    "tools = dbtools.diegobilhalva_tools()"
   ]
  },
  {
   "cell_type": "code",
   "execution_count": null,
   "id": "ba3e269a",
   "metadata": {
    "ExecuteTime": {
     "end_time": "2022-06-22T00:02:19.378334Z",
     "start_time": "2022-06-22T00:02:19.375192Z"
    },
    "id": "ba3e269a"
   },
   "outputs": [],
   "source": [
    "cols = xgbDF.columns[0:xgbDF.shape[1]-2]\n",
    "cols"
   ]
  },
  {
   "cell_type": "code",
   "execution_count": null,
   "id": "7b464fb6",
   "metadata": {
    "ExecuteTime": {
     "end_time": "2022-06-22T00:02:19.388161Z",
     "start_time": "2022-06-22T00:02:19.379444Z"
    },
    "id": "7b464fb6"
   },
   "outputs": [],
   "source": [
    "formulaRaw = tools.formulaRawAuto(X=cols, y='target')\n",
    "formulaRaw"
   ]
  },
  {
   "cell_type": "code",
   "execution_count": null,
   "id": "d456b1a6",
   "metadata": {
    "ExecuteTime": {
     "end_time": "2022-06-22T00:02:19.428782Z",
     "start_time": "2022-06-22T00:02:19.389079Z"
    },
    "id": "d456b1a6"
   },
   "outputs": [],
   "source": [
    "modelo = smf.ols(data = xgbDF, formula = formulaRaw)\n",
    "modelo_ajustado = modelo.fit()\n",
    "print(modelo_ajustado.summary())"
   ]
  },
  {
   "cell_type": "code",
   "execution_count": null,
   "id": "116d2d02",
   "metadata": {
    "ExecuteTime": {
     "end_time": "2022-06-22T00:02:19.577559Z",
     "start_time": "2022-06-22T00:02:19.430094Z"
    },
    "id": "116d2d02"
   },
   "outputs": [],
   "source": [
    "formula, listCol = tools.formulaStepWise(dados=xgbDF, formulaRaw=formulaRaw, y= 'diagnoses', significancia=.05)\n",
    "print(listCol)\n",
    "print(len(listCol))\n",
    "print(len(xgbDF.columns))"
   ]
  },
  {
   "cell_type": "markdown",
   "id": "b77e18d7",
   "metadata": {
    "id": "b77e18d7"
   },
   "source": [
    "<a id='section-seven'></a><span style=\"float:right\">[Voltar](#section-zero)</span>\n",
    "## Conclusão\n",
    "\n",
    "Você deve ter acompanhado comigo a importância de uma boa análise preliminar, antes, porém, ter de se fazer uma diligente imersão, ainda que não tão produnda, no contexto que o conjunto de dados se insere. Ao se analisar este _dataset_ trouxe aspectos importantes de definição dos diferentes tipos de doenças da tireóide, bem como os exames e leituras adequadas dos valores que podem se apresentar. \n",
    "\n",
    "Explorando o conjunto de dados e documentando todas as abordagens da análise, o analista traz luz ao que experar para a modelagem, criando um plano coerente, enxuto e com narrativa boa o suficiente para adaptar-se às adversidades que poderá encontrar, relacionando todos os objetos de estudo ao tema que foi previamente pesquisado.\n",
    "\n",
    "Destaco, também, que durante a análise exploratória se faça um bom uso de gráficos afim de rapidamente e de modo visual se tenha a noção de como os casos se comportam no campo de estudo. Aliás, foi pela análise exploratória visual que tivemos o primeiro _insight_ por optar pelo método de classificação `XGBoost`. Aliás, você se lembra do porquê escolhemos este método? Isso mesmo, foi porque temos uma variável alvo com classes desequilibradas: A proporção entre as classes foi de 1:3:37 entre os diferentes valores.\n",
    "\n",
    "Outro ponto a ser considerado é a análise de _outliers_, mas devido a característica desequilibrada dos dados, aspectos inerentes à massa de dados que estamos estudando e, principalmente o foco deste trabalho, optamos por mantê-los na análise, sem causar prejuízo à natureza e resultados deste estudo. Um pensamento estruturado e objetivo facilita nestas horas, não é verdade?\n",
    "\n",
    "Ainda precisamos comentar sobre os _missing values_ encontrados e como foi importante a exclusão da variável `TBG`. Você lembra o que aconteceu com o nosso _dataset_ após este procedimento?\n",
    "\n",
    "Por fim, o modelo `XGBoost` foi executado em 3 modos diferentes: `standard`, `otimizado` e `otimizado, considerando o desequilíbrio`. Você pode comentar sobre os resultados obtidos em cada um dos casos?"
   ]
  }
 ],
 "metadata": {
  "colab": {
   "provenance": []
  },
  "kernelspec": {
   "display_name": "Python 3 (ipykernel)",
   "language": "python",
   "name": "python3"
  },
  "language_info": {
   "codemirror_mode": {
    "name": "ipython",
    "version": 3
   },
   "file_extension": ".py",
   "mimetype": "text/x-python",
   "name": "python",
   "nbconvert_exporter": "python",
   "pygments_lexer": "ipython3",
   "version": "3.10.7"
  },
  "latex_envs": {
   "LaTeX_envs_menu_present": true,
   "autoclose": false,
   "autocomplete": true,
   "bibliofile": "biblio.bib",
   "cite_by": "apalike",
   "current_citInitial": 1,
   "eqLabelWithNumbers": true,
   "eqNumInitial": 1,
   "hotkeys": {
    "equation": "Ctrl-E",
    "itemize": "Ctrl-I"
   },
   "labels_anchors": false,
   "latex_user_defs": false,
   "report_style_numbering": false,
   "user_envs_cfg": false
  },
  "papermill": {
   "default_parameters": {},
   "duration": 64.955878,
   "end_time": "2022-06-19T01:51:31.007132",
   "environment_variables": {},
   "exception": null,
   "input_path": "__notebook__.ipynb",
   "output_path": "__notebook__.ipynb",
   "parameters": {},
   "start_time": "2022-06-19T01:50:26.051254",
   "version": "2.3.4"
  },
  "toc": {
   "base_numbering": 1,
   "nav_menu": {},
   "number_sections": true,
   "sideBar": true,
   "skip_h1_title": false,
   "title_cell": "Table of Contents",
   "title_sidebar": "Contents",
   "toc_cell": false,
   "toc_position": {
    "height": "calc(100% - 180px)",
    "left": "10px",
    "top": "150px",
    "width": "165px"
   },
   "toc_section_display": true,
   "toc_window_display": false
  },
  "varInspector": {
   "cols": {
    "lenName": 16,
    "lenType": 16,
    "lenVar": 40
   },
   "kernels_config": {
    "python": {
     "delete_cmd_postfix": "",
     "delete_cmd_prefix": "del ",
     "library": "var_list.py",
     "varRefreshCmd": "print(var_dic_list())"
    },
    "r": {
     "delete_cmd_postfix": ") ",
     "delete_cmd_prefix": "rm(",
     "library": "var_list.r",
     "varRefreshCmd": "cat(var_dic_list()) "
    }
   },
   "types_to_exclude": [
    "module",
    "function",
    "builtin_function_or_method",
    "instance",
    "_Feature"
   ],
   "window_display": false
  },
  "vscode": {
   "interpreter": {
    "hash": "916dbcbb3f70747c44a77c7bcd40155683ae19c65e1c03b4aa3499c5328201f1"
   }
  }
 },
 "nbformat": 4,
 "nbformat_minor": 5
}
